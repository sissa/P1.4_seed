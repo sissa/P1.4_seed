{
 "cells": [
  {
   "cell_type": "code",
   "execution_count": null,
   "metadata": {
    "collapsed": true
   },
   "outputs": [],
   "source": [
    "%matplotlib inline\n",
    "import numpy as np\n",
    "import pylab as pl\n",
    "import sympy as sym\n",
    "from sympy.functions import Abs\n",
    "#from sympy import Abs, Symbol, S"
   ]
  },
  {
   "cell_type": "markdown",
   "metadata": {},
   "source": [
    "## Goals of today:\n",
    "\n",
    "- Check how good or bad are the estimates given in the theoretical lecture\n",
    "- Compute errors, plot error tables\n",
    "- Compare Equispaced with Chebyshev\n",
    "\n",
    "## Lagrangian part\n",
    "\n",
    "The estimate we want to check:\n",
    "\n",
    "$$\n",
    "|| f -p || \\leq ||f^{n+1}||_\\infty \\frac{||w(x)||_\\infty}{(n+1)!}\n",
    "$$\n",
    "\n",
    "in order to do so we need to define, simbolic and numerical functions. [`Sympy`]() is a very useful package to handle symbolic expressions and to export them to numerical functions. A the beginnnig of this notebook it is imported with the command: `import sympy as sym`. \n",
    "\n",
    "Let's start by defining a way to compute the $\\|\\cdot\\|_\\infty$ norm, in an approximate way, using numpy. \n",
    "\n",
    "We use an approximate way which is based on the computation of the $l^\\infty$ norm on large n-dimensional vectors, that we use to evaluate and plot our functions.\n",
    "\n",
    "Begin by defining a linear space, used to evaluate our functions."
   ]
  },
  {
   "cell_type": "code",
   "execution_count": null,
   "metadata": {
    "collapsed": false
   },
   "outputs": [],
   "source": [
    "# Using directly numpy broadcasting and max function\n",
    "l_infty = lambda y: abs(y).max()\n",
    "\n",
    "# Using full python lists and ranges\n",
    "def l_infty_1(y):\n",
    "    m = -1.0\n",
    "    for i in range(len(y)):\n",
    "        m = max(m, abs(y[i]))\n",
    "    return m\n",
    "    \n",
    "# Iterating over numpy array entries\n",
    "def l_infty_2(y):\n",
    "    m = -1.0\n",
    "    for i in y:\n",
    "        m = max(m, abs(i))\n",
    "    return m\n",
    "\n",
    "# Using numpy norm function\n",
    "l_infty_3 = lambda y: np.linalg.norm(y, ord=np.inf)\n",
    "\n",
    "# Test it on a random vector of a million elements\n",
    "yy = np.random.rand(int(1e6))\n",
    "\n",
    "%timeit l_infty(yy)\n",
    "%timeit l_infty_1(yy)\n",
    "%timeit l_infty_2(yy)\n",
    "%timeit l_infty_3(yy)\n",
    "\n",
    "# The timings show that the manual numpy solution is the most efficient.\n",
    "# The first version and the last do the exact same thing, \n",
    "# with the difference that the last has some overheads due to \n",
    "# parsing of the optional parameters, which is not there in the first version"
   ]
  },
  {
   "cell_type": "markdown",
   "metadata": {},
   "source": [
    "In order to compute derivatives and evaluate symbolic functions, we use sympy. Let's construct a symbolic variable, and define functions in terms of it:"
   ]
  },
  {
   "cell_type": "code",
   "execution_count": null,
   "metadata": {
    "collapsed": false
   },
   "outputs": [],
   "source": [
    "# Now construct a symbolic function...\n",
    "t = sym.var('t')\n",
    "fs = 1.0/(1.0+t**2) # Runge function\n",
    "\n",
    "fs.diff(t, 1)"
   ]
  },
  {
   "cell_type": "markdown",
   "metadata": {},
   "source": [
    "To make this function *digestible* by numpy we use the simple command `nf = sym.lambdify(t,f, 'numpy')`. This allows the function nf to be called with numpy arguments."
   ]
  },
  {
   "cell_type": "code",
   "execution_count": null,
   "metadata": {
    "collapsed": false,
    "scrolled": true
   },
   "outputs": [],
   "source": [
    "# Create a vector for the evaluation of functions, norms, etc.\n",
    "x = np.linspace(-5,5, 2**10+1) \n",
    "\n",
    "# This won't work\n",
    "# ns(x)\n",
    "\n",
    "nf = sym.lambdify(t, fs, 'numpy')\n",
    "nfprime = sym.lambdify(t, fs.diff(t,1), 'numpy')\n",
    "\n",
    "# Now we can plot and evaluate the function on numpy arrays\n",
    "_ = pl.plot(x,nf(x))\n",
    "_ = pl.plot(x,nfprime(x))"
   ]
  },
  {
   "cell_type": "markdown",
   "metadata": {},
   "source": [
    "Now we construct a small helper function that given a symbolic expression with one single free symbol, it returns a numpy aware lambda function of its n-th derivative, that can be used to evaluate numpy expressions."
   ]
  },
  {
   "cell_type": "code",
   "execution_count": null,
   "metadata": {
    "collapsed": false,
    "scrolled": true
   },
   "outputs": [],
   "source": [
    "def der(f,n):\n",
    "    assert len(f.free_symbols) == 1, \"I can only do this for single variable functions...\"\n",
    "    t = f.free_symbols.pop()\n",
    "    return sym.lambdify(t, f.diff(t, n), 'numpy')\n",
    "\n",
    "f = der(fs, 0)\n",
    "fp = der(fs, 1)\n",
    "fpp = der(fs, 2)\n",
    "\n",
    "# Stack columns and plot them all together\n",
    "_ = pl.plot(x, np.c_[f(x), fp(x), fpp(x)])"
   ]
  },
  {
   "cell_type": "code",
   "execution_count": null,
   "metadata": {
    "collapsed": false
   },
   "outputs": [],
   "source": [
    "# Check derivatives for two functions...\n",
    "function_set = [fs, sym.sin(2*sym.pi*t)]\n",
    "\n",
    "for my_f in function_set:\n",
    "    print(\"****************\")\n",
    "    print(my_f)\n",
    "    for i in range(5):\n",
    "        print(l_infty(der(my_f,i)(x)))"
   ]
  },
  {
   "cell_type": "markdown",
   "metadata": {},
   "source": [
    "We aim at controlling all of the pieces of the inequality above, plot how terms behave with the degree, and see what happens `:)`\n",
    "\n",
    "Good thing is to start from the beginning and control the term $||f-p||_\\infty$. We recall that:\n",
    "$$\n",
    "p = \\mathcal{L}^n f := \\sum_{i=0}^n f(x_i) l^n_i(x),\n",
    "$$\n",
    "\n",
    "with\n",
    "\n",
    "$$\n",
    "l^n_i(x) := \\prod_{j=0, j\\neq i}^n \\frac{(x-x_j)}{(x_i-x_j)}  \\qquad\n",
    "i = 0, \\dots, n.\n",
    "$$\n",
    "\n",
    "Let's implment this guy. We want to fill the matrix `Ln` with $n+1$ rows and as many colums as the number of points where we evaluate the funtion. \n",
    "\n",
    "$$\n",
    "\\text{Ln}_{ij} := l_i(x_j)\n",
    "$$\n",
    "\n",
    "so that \n",
    "\n",
    "$$\n",
    "\\text{Ln}_{ij} f(q_i) = \\sum_{i=0}^{n} l_i(x_j)f(q_i) = (\\mathcal{L}^n f)(x_j)\n",
    "$$\n",
    "\n",
    "A good idea would be to collect the few operations in a function, like this one:\n",
    "```python\n",
    "def lagrangian_interpolation_matrix(x,q):\n",
    "    ...\n",
    "    return Ln\n",
    "```\n",
    "so that we can recall it whenever we need it.\n",
    "\n",
    "**Hint:** I wouldn't call myself a good programmer, but I do my best to be like that. First construct the code in the main section of your program, run it, check that it works, then collect the precious commmands you wrote in an function."
   ]
  },
  {
   "cell_type": "markdown",
   "metadata": {},
   "source": [
    "### Step 0"
   ]
  },
  {
   "cell_type": "code",
   "execution_count": null,
   "metadata": {
    "collapsed": false
   },
   "outputs": [],
   "source": [
    "n = 3\n",
    "q = np.linspace(-5,5,n+1)\n",
    "\n",
    "Ln = np.zeros((n+1, len(x)))\n",
    "\n",
    "for i in range(n+1):\n",
    "    Ln[i] = np.ones_like(x)\n",
    "    for j in range(n+1):\n",
    "        if j != i:\n",
    "            Ln[i] *= (x-q[j])/(q[i]-q[j])\n",
    "\n",
    "    # Alternative one-liner...\n",
    "    # Ln[i] = np.product([(x-q[j])/(q[i]-q[j]) for j in range(n+1) if j != i], axis=0)\n",
    "\n",
    "_ = pl.plot(x, Ln.T)"
   ]
  },
  {
   "cell_type": "markdown",
   "metadata": {},
   "source": [
    "## Step 1\n",
    "\n",
    "Now we transform this into two function that takes the points where we want to compute the \n",
    "matrix, and the interpolation points we use to define the basis."
   ]
  },
  {
   "cell_type": "code",
   "execution_count": null,
   "metadata": {
    "collapsed": false
   },
   "outputs": [],
   "source": [
    "def lagrangian_interpolation_matrix(x,q):\n",
    "    Ln = np.zeros((len(q), len(x)))\n",
    "\n",
    "    for i in range(len(q)):\n",
    "        Ln[i] = np.ones_like(x)\n",
    "        for j in range(len(q)):\n",
    "            if j != i:\n",
    "                Ln[i] *= (x-q[j])/(q[i]-q[j])\n",
    "    return Ln\n",
    "\n",
    "def lagrangian_interpolation_matrix_one_liner(x,q):\n",
    "    Ln = np.zeros((len(q), len(x)))\n",
    "    for i in range(len(q)):\n",
    "        Ln[i] = np.product([(x-q[j])/(q[i]-q[j]) for j in range(len(q)) if j != i], axis=0)\n",
    "    return Ln\n"
   ]
  },
  {
   "cell_type": "code",
   "execution_count": null,
   "metadata": {
    "collapsed": false
   },
   "outputs": [],
   "source": [
    "Error = lagrangian_interpolation_matrix(x,q) - lagrangian_interpolation_matrix_one_liner(x,q)\n",
    "\n",
    "print(\"Error:\", np.linalg.norm(Error))"
   ]
  },
  {
   "cell_type": "markdown",
   "metadata": {},
   "source": [
    "From the previous lecture we know that the mathemathical expression:\n",
    "$$\n",
    "(\\mathcal{L}^nf)(x_i) := \\sum_{j=0}^n f(q_j) l^n_j(x_i) = (\\text{Ln}^T f)_i\n",
    "$$\n",
    "\n",
    "Can be easyly translated into the `numpy` line:\n",
    "```python\n",
    "Ln.T.dot(f(x))\n",
    "```\n",
    "Let's give it a try:\n"
   ]
  },
  {
   "cell_type": "code",
   "execution_count": null,
   "metadata": {
    "collapsed": false,
    "scrolled": true
   },
   "outputs": [],
   "source": [
    "fs = sym.sin(t)\n",
    "\n",
    "f = der(fs,0)\n",
    "\n",
    "n = 3\n",
    "q = np.linspace(-5,5,n+1)\n",
    "\n",
    "Ln = lagrangian_interpolation_matrix(x,q)\n",
    "\n",
    "_ = pl.plot(x, f(x))\n",
    "_ = pl.plot(x, Ln.T.dot(f(q)))\n",
    "_ = pl.plot(q, f(q), 'ro')\n",
    "\n",
    "e = f(x) - Ln.T.dot(f(q))\n",
    "_ = pl.plot(x, e)\n",
    "\n",
    "Error = l_infty(e)\n",
    "\n",
    "print(\"Error:\", Error)"
   ]
  },
  {
   "cell_type": "markdown",
   "metadata": {},
   "source": [
    "Let's increase the number of points..."
   ]
  },
  {
   "cell_type": "code",
   "execution_count": null,
   "metadata": {
    "collapsed": false
   },
   "outputs": [],
   "source": [
    "q = np.linspace(-5,5,15)\n",
    "Ln = lagrangian_interpolation_matrix(x,q)\n",
    "\n",
    "_ = pl.plot(x, f(x))\n",
    "_ = pl.plot(x, Ln.T.dot(f(q)))\n",
    "_ = pl.plot(q, f(q), 'ro')\n",
    "\n",
    "\n",
    "e = f(x) - Ln.T.dot(f(q))\n",
    "\n",
    "Error = l_infty(e)\n",
    "\n",
    "print(\"Error:\", Error)"
   ]
  },
  {
   "cell_type": "markdown",
   "metadata": {},
   "source": [
    "Now compute the following\n",
    "\n",
    "$||f-p||_\\infty = $ `error`\n",
    "\n",
    "$||f^{n+1}||_\\infty = $ `nth_der`\n",
    "\n",
    "$w(x) =\\prod_{i=0}^n (x-q_i), \\quad ||w(x)||_\\infty = $ `w`"
   ]
  },
  {
   "cell_type": "code",
   "execution_count": null,
   "metadata": {
    "collapsed": false,
    "scrolled": true
   },
   "outputs": [],
   "source": [
    "# define w\n",
    "w = lambda x,q: np.product([x-q[i] for i in range(len(q))], axis=0)\n",
    "\n",
    "q = np.linspace(-5,5,5)\n",
    "\n",
    "Ln = lagrangian_interpolation_matrix(x,q)\n",
    "error = l_infty(f(x) - Ln.T.dot(f(q)))\n",
    "\n",
    "fs = sym.sin(2*sym.pi*t)\n",
    "fp = der(fs, len(q))\n",
    "\n",
    "nth_der = l_infty(fp(x))\n",
    "w_infty = l_infty(w(x,q))\n",
    "\n",
    "UpperEstimate = nth_der*w_infty/np.math.factorial(len(q))\n",
    "print(UpperEstimate)"
   ]
  },
  {
   "cell_type": "code",
   "execution_count": null,
   "metadata": {
    "collapsed": false
   },
   "outputs": [],
   "source": [
    "fs = sym.sin(t)\n",
    "\n",
    "points = range(2,15)\n",
    "UpperEstimate = []\n",
    "ActualError = []\n",
    "\n",
    "for n in points:\n",
    "    q = np.linspace(-5,5,n)\n",
    "\n",
    "    Ln = lagrangian_interpolation_matrix(x,q)\n",
    "    ActualError.append(l_infty(f(x) - Ln.T.dot(f(q))))\n",
    "\n",
    "    fp = der(fs, len(q))\n",
    "    nth_der = l_infty(fp(x))\n",
    "    \n",
    "    w_infty = l_infty(w(x,q))\n",
    "\n",
    "    UpperEstimate.append(nth_der*w_infty/np.math.factorial(len(q)))\n",
    "\n",
    "print(UpperEstimate)\n",
    "\n",
    "_ = pl.semilogy(points, UpperEstimate)\n",
    "_ = pl.semilogy(points, ActualError)"
   ]
  },
  {
   "cell_type": "markdown",
   "metadata": {},
   "source": [
    "If I didn't mess the code this a good spot to play aroud with the function to be checked. Let's save everything into a single function. Let's also look forward. Instead of using by default equispaced points, lets' ask for a function that can generate the points for us, given x and q..."
   ]
  },
  {
   "cell_type": "code",
   "execution_count": null,
   "metadata": {
    "collapsed": false
   },
   "outputs": [],
   "source": [
    "def check_errors(x, fs, n, generator=lambda x,n: np.linspace(x.min(),x.max(),n)):\n",
    "    \"\"\"\n",
    "    Check the error for the interpolation obtained by calling \n",
    "    q = generator(x,i)\n",
    "    for each i in the range(2,n).\n",
    "    \n",
    "    The default generator uses equispaced points.\n",
    "    \"\"\"\n",
    "    points = range(2,n)\n",
    "    UpperEstimate = []\n",
    "    ActualError = []\n",
    "    \n",
    "    f = der(fs, 0)\n",
    "    \n",
    "    for n in points:\n",
    "        q = generator(x,n)\n",
    "\n",
    "        Ln = lagrangian_interpolation_matrix(x,q)\n",
    "        ActualError.append(l_infty(f(x) - Ln.T.dot(f(q))))\n",
    "\n",
    "        fp = der(fs, len(q))\n",
    "        nth_der = l_infty(fp(x))\n",
    "\n",
    "        w_infty = l_infty(w(x,q))\n",
    "\n",
    "        UpperEstimate.append(nth_der*w_infty/np.math.factorial(len(q)))\n",
    "    \n",
    "    return (points, UpperEstimate, ActualError)"
   ]
  },
  {
   "cell_type": "code",
   "execution_count": null,
   "metadata": {
    "collapsed": false
   },
   "outputs": [],
   "source": [
    "function_set = [1/(1+t**2), sym.sin(2*sym.pi*t), sym.sin(t)]\n",
    "\n",
    "for fs in function_set:\n",
    "    p, u, e = check_errors(x, fs, 20)\n",
    "    \n",
    "    _ = pl.semilogy(p, np.c_[u, e])\n",
    "    pl.title(str(fs))\n",
    "    pl.legend(['Estimate', 'Actual'])\n",
    "    pl.show()"
   ]
  },
  {
   "cell_type": "markdown",
   "metadata": {
    "collapsed": true
   },
   "source": [
    "Now let's try to repeat the same thing with **Chebyshev** points..."
   ]
  },
  {
   "cell_type": "code",
   "execution_count": null,
   "metadata": {
    "collapsed": false
   },
   "outputs": [],
   "source": [
    "# We start by trying to interpolate the Runge function:\n",
    "\n",
    "# Get a smaller sample of points...\n",
    "x = np.linspace(-5,5,2**6+1)\n",
    "\n",
    "# This is used to generate chebyshev points between xmin and xmax\n",
    "generator = lambda x,n: x.min()+(x.max()-x.min())/2*(np.polynomial.chebyshev.chebgauss(n)[0]+1)\n",
    "\n",
    "# 10 interpolation points\n",
    "q = generator(x,10)\n",
    "\n",
    "# The the Runge function\n",
    "f = der(function_set[0], 0)\n",
    "\n",
    "# The interpolation matrix\n",
    "Ln = lagrangian_interpolation_matrix(x,q)\n",
    "\n",
    "_ = pl.plot(x, np.c_[f(x), Ln.T.dot(f(q))])\n",
    "_ = pl.plot(q, f(q), 'or')"
   ]
  },
  {
   "cell_type": "code",
   "execution_count": null,
   "metadata": {
    "collapsed": false
   },
   "outputs": [],
   "source": [
    "for fs in function_set:\n",
    "    p, u, e = check_errors(x, fs, 20, generator)\n",
    "    \n",
    "    _ = pl.semilogy(p, np.c_[u, e])\n",
    "    pl.title(str(fs))\n",
    "    pl.legend(['Estimate', 'Actual'])\n",
    "    pl.show()"
   ]
  }
 ],
 "metadata": {
  "anaconda-cloud": {},
  "kernelspec": {
   "display_name": "Python [conda root]",
   "language": "python",
   "name": "conda-root-py"
  },
  "language_info": {
   "codemirror_mode": {
    "name": "ipython",
    "version": 3
   },
   "file_extension": ".py",
   "mimetype": "text/x-python",
   "name": "python",
   "nbconvert_exporter": "python",
   "pygments_lexer": "ipython3",
   "version": "3.4.5"
  }
 },
 "nbformat": 4,
 "nbformat_minor": 1
}
