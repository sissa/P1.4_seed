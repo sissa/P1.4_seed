{
 "cells": [
  {
   "cell_type": "code",
   "execution_count": null,
   "metadata": {
    "collapsed": true
   },
   "outputs": [],
   "source": [
    "%matplotlib inline\n",
    "import numpy as np\n",
    "import pylab as pl\n",
    "import sympy as sym\n",
    "from sympy.functions import Abs\n",
    "#from sympy import Abs, Symbol, S"
   ]
  },
  {
   "cell_type": "markdown",
   "metadata": {},
   "source": [
    "## Goals of today:\n",
    "\n",
    "- Check how good or bad are the estimates given in the theoretical lecture\n",
    "- Compare Equispaced with Chebyshev\n",
    "- Compute errors, plot error tables\n",
    "- Implement Bernstein interpolation\n",
    "- Compare Bernstein interpolation with Lagrangian interpolation\n",
    "\n",
    "## Lagrangian part\n",
    "\n",
    "The estimate we want to check:\n",
    "\n",
    "$$\n",
    "|| f -p || \\leq ||f^{n+1}||_\\infty \\frac{||w(x)||_\\infty}{(n+1)!}\n",
    "$$\n",
    "\n",
    "in order to do so we need to define, simbolic and numerical functions. [`Sympy`]() is a very useful package to handle symbolic expressions and to export them to numerical functions. A the beginnnig of this notebook it is imported with the command: `import sympy as sym`. Let's define a simple function:\n",
    "\n",
    "**Hint:** Try to play around, derivatives integrals..."
   ]
  },
  {
   "cell_type": "code",
   "execution_count": null,
   "metadata": {
    "collapsed": false
   },
   "outputs": [],
   "source": [
    "t = sym.symbols('t')\n",
    "# YOUR CODE HERE"
   ]
  },
  {
   "cell_type": "markdown",
   "metadata": {},
   "source": [
    "To make this function *digestible* by numpy we use the simple command `nf = sym.lambdify(t,f, 'numpy')`. This allows the function nf to be called with numpy arguments."
   ]
  },
  {
   "cell_type": "code",
   "execution_count": null,
   "metadata": {
    "collapsed": false
   },
   "outputs": [],
   "source": [
    "# YOUR CODE HERE"
   ]
  },
  {
   "cell_type": "markdown",
   "metadata": {},
   "source": [
    "We aim at controlling all of the pieces of the inequality above, plot how terms behave with the degree, and see what happens `:)`\n",
    "\n",
    "Good thing is to start from the beginning and control the term $||f-p||_\\infty$. We recall that:\n",
    "$$\n",
    "p = \\mathcal{L}^n f := \\sum_{i=0}^n f(x_i) l^n_i(x),\n",
    "$$\n",
    "\n",
    "with\n",
    "\n",
    "$$\n",
    "l^n_i(x) := \\prod_{j=0, j\\neq i}^n \\frac{(x-x_j)}{(x_i-x_j)}  \\qquad\n",
    "i = 0, \\dots, n.\n",
    "$$\n",
    "\n",
    "Let's implment this guy. We want to fill the matrix `Ln` with $n+1$ rows and as many colums as the number of points where we evaluate the funtion. A good idea would be to collect the few operations in a function, like this one:\n",
    "```python\n",
    "def lagrangian_interpolation_matrix(x,q):\n",
    "    ...\n",
    "    return Ln\n",
    "```\n",
    "so that we can recall it whenever we need it.\n",
    "\n",
    "**Hint:** I wouldn't call myself a good programmer, but I do my best to be like that. First construct the code in the main section of your program, run it, check that it works, then collect the precious commmands you wrote in an function."
   ]
  },
  {
   "cell_type": "markdown",
   "metadata": {},
   "source": [
    "### Step 0"
   ]
  },
  {
   "cell_type": "code",
   "execution_count": null,
   "metadata": {
    "collapsed": false
   },
   "outputs": [],
   "source": [
    "n = 3\n",
    "q = np.linspace(0,1,n+1)\n",
    "\n",
    "# YOUR CODE HERE"
   ]
  },
  {
   "cell_type": "markdown",
   "metadata": {},
   "source": [
    "## Step 1\n",
    "\n",
    "Now we transform this into a function that takes the points where we want to compute the \n",
    "matrix, and the interpolation points we use to define the basis."
   ]
  },
  {
   "cell_type": "code",
   "execution_count": null,
   "metadata": {
    "collapsed": false
   },
   "outputs": [],
   "source": [
    "def lagrangian_interpolation_matrix(x,q):\n",
    "    # YOUR CODE HERE\n",
    "    return"
   ]
  },
  {
   "cell_type": "code",
   "execution_count": null,
   "metadata": {
    "collapsed": false
   },
   "outputs": [],
   "source": [
    "# TEST IT HERE"
   ]
  },
  {
   "cell_type": "markdown",
   "metadata": {},
   "source": [
    "From the previous lecture we know that the mathemathical expression:\n",
    "$$\n",
    "(\\mathcal{L}^nf)(x_i) := \\sum_{j=0}^n f(q_j) l^n_j(x_i) = (\\text{Ln}^T f)_i\n",
    "$$\n",
    "\n",
    "Can be easyly translated into the `numpy` line:\n",
    "```python\n",
    "Ln.T.dot(f(x))\n",
    "```\n",
    "Let's give it a try:\n"
   ]
  },
  {
   "cell_type": "code",
   "execution_count": null,
   "metadata": {
    "collapsed": false
   },
   "outputs": [],
   "source": [
    "# Interpolation of sin function"
   ]
  },
  {
   "cell_type": "markdown",
   "metadata": {},
   "source": [
    "We need a very simple function to evaluate the norm infinity of a function $||\\cdot||_\\infty$:"
   ]
  },
  {
   "cell_type": "code",
   "execution_count": null,
   "metadata": {
    "collapsed": true
   },
   "outputs": [],
   "source": [
    "def linfty_norm(fun):\n",
    "    # Your function here\n",
    "    return "
   ]
  },
  {
   "cell_type": "markdown",
   "metadata": {},
   "source": [
    "Now compute the following\n",
    "\n",
    "$||f-p||_\\infty = $ `error`\n",
    "\n",
    "$||f^{n+1}||_\\infty = $ `nth_der`\n",
    "\n",
    "$w(x) =\\prod_{i=0}^n (x-q_i), \\quad ||w(x)||_\\infty = $ `w`"
   ]
  },
  {
   "cell_type": "code",
   "execution_count": null,
   "metadata": {
    "collapsed": true
   },
   "outputs": [],
   "source": [
    "# define w"
   ]
  },
  {
   "cell_type": "markdown",
   "metadata": {},
   "source": [
    "If I didn't mess the code this a good spot to play aroud with the function to be checked:"
   ]
  },
  {
   "cell_type": "code",
   "execution_count": null,
   "metadata": {
    "collapsed": false
   },
   "outputs": [],
   "source": [
    "# Test on one f"
   ]
  },
  {
   "cell_type": "code",
   "execution_count": null,
   "metadata": {
    "collapsed": true
   },
   "outputs": [],
   "source": [
    "# Make it a python function call"
   ]
  },
  {
   "cell_type": "code",
   "execution_count": null,
   "metadata": {
    "collapsed": true
   },
   "outputs": [],
   "source": []
  }
 ],
 "metadata": {
  "anaconda-cloud": {},
  "kernelspec": {
   "display_name": "Python [conda root]",
   "language": "python",
   "name": "conda-root-py"
  },
  "language_info": {
   "codemirror_mode": {
    "name": "ipython",
    "version": 3
   },
   "file_extension": ".py",
   "mimetype": "text/x-python",
   "name": "python",
   "nbconvert_exporter": "python",
   "pygments_lexer": "ipython3",
   "version": "3.5.2"
  }
 },
 "nbformat": 4,
 "nbformat_minor": 1
}
