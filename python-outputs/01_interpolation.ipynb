{
 "cells": [
  {
   "cell_type": "markdown",
   "metadata": {},
   "source": [
    "## Lagrange interpolation\n",
    "\n",
    "Given $(n+1)$ distinct points $\\{q_i\\}_{i=0}^n$ in the interval $[0,1]$,\n",
    "we define the *Lagrange interpolation* operator $\\mathcal{L}^n$ the operator\n",
    "$$\n",
    "\\mathcal{L}^n : C^0([0,1]) \\mapsto \\mathcal{P}^n\n",
    "$$\n",
    "which satisfies\n",
    "$$\n",
    "(\\mathcal{L}^n f)(q_i) = f(q_i), \\qquad i=0,\\dots,n.\n",
    "$$\n",
    "\n",
    "This operator is used to approximate the infinitely dimensional space $C^0([0,1])$ with a\n",
    "finite dimensional one, $\\mathcal{P}^n$, which is the space of polynomials of order n. \n",
    "\n",
    "Such a space has dimension $n+1$, and can be constructed using linear combinations of \n",
    "monomials of order $\\leq n$:\n",
    "\n",
    "$$\n",
    "\\mathcal{P}^n = \\text{span}\\{p_i := x^i\\}_{i=0}^{n}\n",
    "$$\n",
    "\n",
    "Let's start by importing the usual suspects:"
   ]
  },
  {
   "cell_type": "code",
   "execution_count": null,
   "metadata": {
    "collapsed": true
   },
   "outputs": [],
   "source": [
    "%matplotlib inline\n",
    "# from numpy import *\n",
    "# from pylab import *\n",
    "import numpy as np\n",
    "import pylab as pl"
   ]
  },
  {
   "cell_type": "markdown",
   "metadata": {},
   "source": [
    "In what follows, we will plot several functions in the interval $[0,1]$, \n",
    "so we start by defining a linear space used for plotting. As a good habit, \n",
    "we choose a number of points which would generate intervals that are \n",
    "exactly representable in terms of a binary base."
   ]
  },
  {
   "cell_type": "code",
   "execution_count": null,
   "metadata": {
    "collapsed": false
   },
   "outputs": [],
   "source": [
    "ref = 1025 # So that x_i+1 - x_i is exactly representable in base 2\n",
    "x = np.linspace(0,1,ref)\n",
    "\n",
    "n = 50 # Polynomials of order 5, with dimension 6\n",
    "\n",
    "# We store the basis of Pn row-wise. This is memory efficient if we want to access\n",
    "# all the values of the basis at once\n",
    "Pn = np.zeros((n+1, len(x)))\n",
    "\n",
    "for i in range(n+1):\n",
    "    Pn[i] = x**i\n",
    "\n",
    "# The _ = in front of the plot command is only there to ignore the output of the plot\n",
    "# command\n",
    "pl.figure(figsize=[10,10])\n",
    "_ = pl.plot(x, Pn.T)\n"
   ]
  },
  {
   "cell_type": "markdown",
   "metadata": {},
   "source": [
    "If we want to construct the Lagrange interpolation of a given function on $n+1$ equispaced points in \n",
    "$[0,1]$, then we are actively looking for an element of $\\mathcal{P}^n$ that coincides with the function\n",
    "at these given points.\n",
    "\n",
    "Given a basis $\\{p_i\\}_{i=0}^n$, any element of $\\mathcal{P}^n$ can be written as a linear combination of \n",
    "the basis, i.e., \n",
    "\n",
    "$$\n",
    "\\forall u \\in \\mathcal{P}^n, \\quad  \\exists! \\{u^i\\}_{i=0}^n  \\quad| \\quad u(x) = \\sum_{i=0}^n u^i p_i(x)\n",
    "$$\n",
    "\n",
    "in what follows, we'll use [Einstein summation convention](https://en.wikipedia.org/wiki/Einstein_notation), and \n",
    "call $u$ both the function of $\\mathcal{P}^n$, or the $R^{n+1}$ vector representing its coefficients. \n",
    "\n",
    "**Remark on the notation**\n",
    "\n",
    "We use upper indices to indicate both \"contravariant\" coefficients and the *canonical basis of the dual space*, \n",
    "i.e., the linear functionals in $(\\mathcal{P}^n)^*$ such that \n",
    "\n",
    "$$\n",
    "(\\mathcal{P}^n)^* := \\text{span}\\{p^i\\}_{i=0}^{n} \\qquad | \\qquad p^i(p_j) = \\delta^i_j\\qquad i,j = 0, \\ldots, n\n",
    "$$\n",
    "\n",
    "With this notation, we have that the coefficients of a polynomial are uniquely determined by\n",
    "\n",
    "$$\n",
    "u^i = p^i(u)\n",
    "$$\n",
    "\n",
    "where the $u$ on the right hand side is an element of $\\mathcal{P}^n$ (not its coefficients).\n",
    "\n",
    "If we want to solve the interpolation problem above, then we need to find the coefficients $u^i$ of the \n",
    "polynomial $u$ that interpolates $f$ at the points $q_i$:\n",
    "\n",
    "$$\n",
    "p_j(q_i) u^j = f(q_i)\n",
    "$$\n",
    "\n",
    "(Remember Einstein summation convention)\n",
    "\n",
    "This can be written as a linear problem $A u = F$, with system matrix $A_{ij} :=  p_j(q_i)$ and right \n",
    "hand side $F_i = f(q_i)$."
   ]
  },
  {
   "cell_type": "code",
   "execution_count": null,
   "metadata": {
    "collapsed": false
   },
   "outputs": [],
   "source": [
    "# The interpolation points\n",
    "q = np.linspace(0,1,n+1)\n",
    "\n",
    "A = np.zeros((n+1, n+1))\n",
    "for j in range(n+1):\n",
    "    A[:,j] = q**j\n",
    "\n",
    "# The interpolation function\n",
    "f = lambda x: np.sin(2*np.pi*x)\n",
    "\n",
    "# The right hand side\n",
    "F = f(q)\n",
    "\n",
    "# The coefficients\n",
    "u = np.linalg.solve(A, F)\n",
    "\n",
    "# Make a nice looking plot\n",
    "pl.figure(figsize=[10,5])\n",
    "_ = pl.plot(x, f(x))\n",
    "_ = pl.plot(x, Pn.T.dot(u))\n",
    "_ = pl.plot(q, f(q), 'ro')"
   ]
  },
  {
   "cell_type": "markdown",
   "metadata": {},
   "source": [
    "Is this a good way to proceed with the interpolation? How about the condition number of $A$? Is it good?\n",
    "\n",
    "Let's try with an increasing number of points (and degrees):"
   ]
  },
  {
   "cell_type": "code",
   "execution_count": null,
   "metadata": {
    "collapsed": false,
    "scrolled": false
   },
   "outputs": [],
   "source": [
    "for i in range(3,15):\n",
    "    qtmp = np.linspace(0,1,i)\n",
    "    Atmp = np.zeros((i,i))\n",
    "    for j in range(i):\n",
    "        Atmp[:,j] = qtmp**j\n",
    "        \n",
    "    print(\"Condition number: n=\", i, \":\", np.linalg.cond(Atmp))\n"
   ]
  },
  {
   "cell_type": "markdown",
   "metadata": {},
   "source": [
    "As we see, the condition number of this matrix explodes as n increases. Since the interpolation problem \n",
    "reduces to solving the matrix constructed as $A_{ij} := p_j(x_i)$, one way to ensure a good condition number\n",
    "is to choose the basis such that $A$ is the identity matrix, i.e., to choose the basis such that $p_j(x_i) = \\delta_{ij}$. Such a basis is called the **Lagrange basis**, and it is constructed explicitly as:\n",
    "\n",
    "\n",
    "$$\n",
    "l^n_i(x) := \\prod_{j=0, j\\neq i}^n \\frac{(x-x_j)}{(x_i-x_j)}  \\qquad\n",
    "i = 0, \\dots, n\n",
    "$$\n",
    "\n",
    "With this basis, no matrix inversion is required, and we can simply write the Lagrange interpolation as\n",
    "$$\n",
    "\\mathcal{L}^n f := \\sum_{i=0}^n f(x_i) l^n_i(x),\n",
    "$$\n",
    "\n",
    "> Given a set of $(n+1)$ distinct points\n",
    "> $\\{x_i\\}_{i=0}^n$ , there exist a unique Lagrange interpolation of order\n",
    "> $n$."
   ]
  },
  {
   "cell_type": "code",
   "execution_count": null,
   "metadata": {
    "collapsed": false
   },
   "outputs": [],
   "source": [
    "Ln = np.zeros((n+1, len(x)))\n",
    "\n",
    "for i in range(n+1):\n",
    "    Ln[i] = np.product([ (x-q[j])/(q[i]-q[j]) for j in range(n+1) if j != i], axis=0)\n",
    "\n",
    "# _ = pl.plot(x,Ln.T)\n",
    "# _ = pl.plot(q,np.zeros_like(q),'ro')\n",
    "\n",
    "\n",
    "####\n",
    "\n",
    "from scipy import optimize\n",
    "\n",
    "def min_fun(q):\n",
    "    n = len(q) - 1\n",
    "    Ln = np.zeros((n+1, len(x)))\n",
    "\n",
    "    for i in range(n+1):\n",
    "        Ln[i] = np.product([ (x-q[j])/(q[i]-q[j]) for j in range(n+1) if j != i], axis=0)\n",
    "    \n",
    "    return abs(Ln).max()\n",
    "\n",
    "# solution = optimize.minimize(min_fun,q,bounds=[(0,1)]*len(q))\n",
    "\n",
    "# optimize.minimize()\n",
    "# ss = min_fun(np.sin(x))\n",
    "# print(ss)"
   ]
  },
  {
   "cell_type": "markdown",
   "metadata": {},
   "source": [
    "Now the interpolation in the sampling points is simply:"
   ]
  },
  {
   "cell_type": "code",
   "execution_count": null,
   "metadata": {
    "collapsed": false,
    "scrolled": true
   },
   "outputs": [],
   "source": [
    "y = Ln.T.dot(f(q))\n",
    "\n",
    "pl.figure(figsize=[10,5])\n",
    "_ = pl.plot(x, f(x))\n",
    "_ = pl.plot(x, y)\n",
    "_ = pl.plot(q, f(q), 'ro')"
   ]
  },
  {
   "cell_type": "markdown",
   "metadata": {},
   "source": [
    "Let's try different functions:"
   ]
  },
  {
   "cell_type": "code",
   "execution_count": null,
   "metadata": {
    "collapsed": true
   },
   "outputs": [],
   "source": [
    "from numpy import *\n",
    "from pylab import *"
   ]
  },
  {
   "cell_type": "code",
   "execution_count": null,
   "metadata": {
    "collapsed": false
   },
   "outputs": [],
   "source": [
    "q = np.sort(np.array([0]+np.random.random(n-2).tolist()+[1]))"
   ]
  },
  {
   "cell_type": "code",
   "execution_count": null,
   "metadata": {
    "collapsed": false
   },
   "outputs": [],
   "source": [
    "q=q1\n",
    "q1"
   ]
  },
  {
   "cell_type": "code",
   "execution_count": null,
   "metadata": {
    "collapsed": false
   },
   "outputs": [],
   "source": [
    "n"
   ]
  },
  {
   "cell_type": "code",
   "execution_count": null,
   "metadata": {
    "collapsed": false
   },
   "outputs": [],
   "source": [
    "Ln = np.zeros((n+1, len(x)))\n",
    "# print(len(Ln))\n",
    "for i in range(n+1):\n",
    "    Ln[i] = np.product([ (x-q[j])/(q[i]-q[j]) for j in range(n+1) if j != i], axis=0)"
   ]
  },
  {
   "cell_type": "code",
   "execution_count": null,
   "metadata": {
    "collapsed": false
   },
   "outputs": [],
   "source": [
    "# q1 = q\n",
    "q = q1"
   ]
  },
  {
   "cell_type": "code",
   "execution_count": null,
   "metadata": {
    "collapsed": false
   },
   "outputs": [],
   "source": [
    "runge(q)"
   ]
  },
  {
   "cell_type": "code",
   "execution_count": null,
   "metadata": {
    "collapsed": false
   },
   "outputs": [],
   "source": [
    "# A little \"macro\". This assumes Ln, q, and x are all defined\n",
    "# Notice: technically this is a python function. However, it \n",
    "# expects symbols and variables to be defined in the global scope\n",
    "# and this is **not** good programming style. It may be very \n",
    "# useful and fast at times, but try not to overdo it.\n",
    "#\n",
    "# I'd call it a function if internally it did not use any globally\n",
    "# defined variable.\n",
    "\n",
    "def my_plot(f):\n",
    "    figure(figsize=[10,5])\n",
    "    y = Ln.T.dot(f(q))\n",
    "    _ = plot(x, f(x))\n",
    "    _ = plot(x, y)\n",
    "    _ = plot(q, f(q), 'ro')\n",
    "    show()\n",
    "\n",
    "# my_plot(sin)\n",
    "# my_plot(cos)\n",
    "\n",
    "# When we need something more complicated than simply cos, or sin, \n",
    "# we can use \"on the fly\" function definitions, or lambda functions:\n",
    "# my_plot(lambda x: cos(2*pi*x))\n",
    "\n",
    "# Lambda functions can be assigned too, for convenience and later \n",
    "# reuse...\n",
    "runge = lambda x: 1.0/(1+50*(.5-x)**2)\n",
    "my_plot(runge)\n",
    "\n",
    "# Alternatively, you can define the function in the classical pythonic\n",
    "# way:\n",
    "def shifted_abs(x):\n",
    "    return abs(x-.5)\n",
    "\n",
    "my_plot(shifted_abs)"
   ]
  },
  {
   "cell_type": "code",
   "execution_count": null,
   "metadata": {
    "collapsed": true
   },
   "outputs": [],
   "source": []
  }
 ],
 "metadata": {
  "anaconda-cloud": {},
  "kernelspec": {
   "display_name": "Python [default]",
   "language": "python",
   "name": "python3"
  },
  "language_info": {
   "codemirror_mode": {
    "name": "ipython",
    "version": 3
   },
   "file_extension": ".py",
   "mimetype": "text/x-python",
   "name": "python",
   "nbconvert_exporter": "python",
   "pygments_lexer": "ipython3",
   "version": "3.4.5"
  }
 },
 "nbformat": 4,
 "nbformat_minor": 1
}
