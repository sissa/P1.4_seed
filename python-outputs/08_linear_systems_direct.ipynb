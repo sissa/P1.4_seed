{
 "cells": [
  {
   "cell_type": "markdown",
   "metadata": {},
   "source": [
    "# Direct methods for solving linear systems\n",
    "\n",
    "The pourpose of this exercise is becoming familiar with some direct methods for solving linear systems and play with the **LU** and **Cholesky** decompositions.\n"
   ]
  },
  {
   "cell_type": "markdown",
   "metadata": {},
   "source": [
    "Let us consider an elastic cable fixed at the extremes occupying at rest the space $[0,1]$. We apply on it a given force $f(x)$. Its displacement at the point $x$, $u(x)$ is the solution of the following problem:\n",
    "$$\n",
    "-u_h''(x) = f(x)\\ \\mathrm{ in }\\ [0,1]\n",
    "$$\n",
    "\n",
    "$$\n",
    "u_h(0) = 0, \\quad u_h(1) = 0\n",
    "$$\n",
    "\n",
    "For the sake of simplicity we consider a uniform discretisation of the interval $[0,1]$ using $n$ equispaced *sample points* to construct a **Finite Difference Approximation**."
   ]
  },
  {
   "cell_type": "code",
   "execution_count": 1,
   "metadata": {
    "collapsed": false
   },
   "outputs": [],
   "source": [
    "%matplotlib inline\n",
    "from numpy import *\n",
    "from matplotlib.pyplot import *\n",
    "\n",
    "n = 33\n",
    "h = 1./(n-1)\n",
    "\n",
    "x=linspace(0,1,n)"
   ]
  },
  {
   "cell_type": "markdown",
   "metadata": {},
   "source": [
    "# Central finite difference approximation\n",
    "\n",
    "We consider the approximation\n",
    "\n",
    "$$\n",
    "-u''_i := \\frac{-u_{i-1} + 2u_i - u_{i+1}}{h^2}\n",
    "$$\n",
    "\n",
    "and solve the linear system\n",
    "\n",
    "$$\n",
    "\\frac{-u_{i-1} + 2u_i - u_{i+1}}{h^2} = f_i \\qquad i=1,\\ldots,n-2\n",
    "$$\n",
    "\n",
    "This results in a tridiagonal matrix with $n-2$ entries. We assemble all of the entries anyway, and then perform a **line elimination** to make the system solvable. This is typical of problems with **Dirichlet Boundary conditions**."
   ]
  },
  {
   "cell_type": "code",
   "execution_count": 12,
   "metadata": {
    "collapsed": false,
    "scrolled": true
   },
   "outputs": [
    {
     "name": "stdout",
     "output_type": "stream",
     "text": [
      "[[ 2. -1.  0. ...,  0.  0.  0.]\n",
      " [-1.  2. -1. ...,  0.  0.  0.]\n",
      " [ 0. -1.  2. ...,  0.  0.  0.]\n",
      " ..., \n",
      " [ 0.  0.  0. ...,  2. -1.  0.]\n",
      " [ 0.  0.  0. ..., -1.  2. -1.]\n",
      " [ 0.  0.  0. ...,  0. -1.  2.]]\n",
      "467.842628839\n"
     ]
    }
   ],
   "source": [
    "a = -ones((n-1,)) # Offdiagonal entries\n",
    "b = 2*ones((n,))  # Diagonal entries\n",
    "A = (diag(a, -1) + diag(b, 0) + diag(a, +1))\n",
    "print(A)\n",
    "\n",
    "# Now we scale it to 1/h^2\n",
    "A /= h**2\n",
    "\n",
    "print(linalg.cond(A))"
   ]
  },
  {
   "cell_type": "markdown",
   "metadata": {},
   "source": [
    "Now let's consider a simple right hand side:\n",
    "\n",
    "$$\n",
    "f_i = x_i(1-x_i)\n",
    "$$\n",
    "which gives as exact solution\n",
    "\n",
    "$$\n",
    "u_{\\mathrm{exact}} = \\frac{x^4}{12} - \\frac{x^3}{6} +\\frac{x}{12}\n",
    "$$\n"
   ]
  },
  {
   "cell_type": "code",
   "execution_count": 26,
   "metadata": {
    "collapsed": false,
    "scrolled": true
   },
   "outputs": [
    {
     "data": {
      "image/png": "[encoded data removed]",
      "text/plain": [
       "<matplotlib.figure.Figure at 0x10de23790>"
      ]
     },
     "metadata": {},
     "output_type": "display_data"
    }
   ],
   "source": [
    "f =x*(1.-x)\n",
    "\n",
    "# Imposing homogeneous BCs keeping A SPD\n",
    "# A[0,:] = 0\n",
    "# A[:,0] = 0\n",
    "A[0,0] = 1.#/h**2\n",
    "\n",
    "# A[:,-1] = 0\n",
    "# A[-1,:] = 0\n",
    "A[-1,-1] = 2.#/h**2\n",
    "\n",
    "f[0] = 0\n",
    "f[-1] = 0\n",
    "\n",
    "A1 = A.copy()\n",
    "\n",
    "u = linalg.solve(A1, f)\n",
    "\n",
    "u_ex = (x**4)/12. - (x**3)/6. + x/12.\n",
    "\n",
    "_ = plot(x,u,'ro')\n",
    "_ = plot(x,u_ex)\n"
   ]
  },
  {
   "cell_type": "markdown",
   "metadata": {},
   "source": [
    "## LU decomposition\n",
    "\n",
    "We want to implement our linear solver using an **LU decomposition** (without pivoting for now)\n",
    "$$\n",
    "A = LU\n",
    "$$\n",
    "and so the system \n",
    "$$\n",
    "Ax=b\n",
    "$$\n",
    "can be solved in **two steps**\n",
    "$$\n",
    "Ly=b\n",
    "$$\n",
    "$$\n",
    "Ux=y\n",
    "$$\n",
    "\n",
    "For the sake of simplicity, you can use the following function to compute the LU decomposition of a square matrix A (of course you can try to implement it by your own..)"
   ]
  },
  {
   "cell_type": "code",
   "execution_count": 27,
   "metadata": {
    "collapsed": false,
    "scrolled": true
   },
   "outputs": [],
   "source": [
    "def LU(A1):\n",
    "    A = A1.copy()\n",
    "    N=len(A)\n",
    "    for k in range(N-1):\n",
    "        if (abs(A[k,k]) < 1e-15):\n",
    "            print \"error\"\n",
    "            exit\n",
    "            \n",
    "        A[k+1:N,k] /= A[k,k]\n",
    "        for j in range(k+1,N):\n",
    "            A[k+1:N,j] -= A[k+1:N,k]*A[k,j]\n",
    "    \n",
    "    L=tril(A)\n",
    "    for i in range(N):\n",
    "        L[i,i]=1.0\n",
    "    U = triu(A)\n",
    "    return L, U\n",
    "\n",
    "L,U = LU(A)"
   ]
  },
  {
   "cell_type": "code",
   "execution_count": 28,
   "metadata": {
    "collapsed": false
   },
   "outputs": [],
   "source": [
    "import scipy.linalg as sl\n",
    "slp,sll,slu = sl.lu(A)"
   ]
  },
  {
   "cell_type": "markdown",
   "metadata": {},
   "source": [
    "Now you have to code the solution of a linear system when the matrix A is a **lower triangular matrix** and when it is an **upper triangular matrix**"
   ]
  },
  {
   "cell_type": "code",
   "execution_count": 29,
   "metadata": {
    "collapsed": false
   },
   "outputs": [],
   "source": [
    "def L_solve(L,rhs):\n",
    "    N = len(L)\n",
    "    sol = zeros(N)\n",
    "    \n",
    "    if (abs(min(diag(L))) < 1e-15):\n",
    "        print \"null entries\"\n",
    "        exit\n",
    "    \n",
    "    sol[0] = rhs[0]/L[0,0]\n",
    "    for k in range(1,N):\n",
    "        sol[k] = (rhs[k] - dot(L[k,:k], sol[:k])) / L[k,k]        \n",
    "        \n",
    "    return sol\n",
    "\n",
    "# print L_solve(L,f)\n",
    "# print linalg.solve(L,f)"
   ]
  },
  {
   "cell_type": "code",
   "execution_count": 30,
   "metadata": {
    "collapsed": false
   },
   "outputs": [],
   "source": [
    "def U_solve(U,rhs):\n",
    "    N = len(U)\n",
    "    sol = zeros(N)\n",
    "    \n",
    "    if (abs(min(diag(U))) < 1e-15):\n",
    "        print \"null entries\"\n",
    "        exit\n",
    "    \n",
    "    sol[-1] = rhs[-1]/U[-1,-1]\n",
    "    \n",
    "    for k in reversed(range(N-1)):\n",
    "        sol[k] = (rhs[k] - dot(U[k,k+1:N-1], sol[k+1:N-1])) / U[k,k]        \n",
    "        \n",
    "    return sol\n",
    "\n",
    "# print U_solve(U,f)\n",
    "# print linalg.solve(U,f)"
   ]
  },
  {
   "cell_type": "markdown",
   "metadata": {},
   "source": [
    "Now let's solve the system \n",
    "$$ \n",
    "Ax=b\n",
    "$$\n",
    "\n",
    "and compare the solution with respect to the exact solution given above"
   ]
  },
  {
   "cell_type": "code",
   "execution_count": 31,
   "metadata": {
    "collapsed": false,
    "scrolled": true
   },
   "outputs": [
    {
     "name": "stdout",
     "output_type": "stream",
     "text": [
      "1\n",
      "1\n",
      "1\n"
     ]
    },
    {
     "data": {
      "image/png": "[encoded data removed]",
      "text/plain": [
       "<matplotlib.figure.Figure at 0x10e2b02d0>"
      ]
     },
     "metadata": {},
     "output_type": "display_data"
    }
   ],
   "source": [
    "L,U = LU(A)\n",
    "\n",
    "y = L_solve(L,dot(slp.transpose(),f))\n",
    "\n",
    "u = U_solve(U,y)\n",
    "\n",
    "_ = plot(x,u,'ro')\n",
    "_ = plot(x,u_ex)\n",
    "print prod(sll == L)\n",
    "print prod(slu == U)\n",
    "print prod(slp == eye(len(slp)))"
   ]
  },
  {
   "cell_type": "markdown",
   "metadata": {
    "collapsed": true
   },
   "source": [
    "### try to compute the solution $u(x)$ with different forcing terms and compare with the exact solution **without recomputing the LU decomposition**"
   ]
  },
  {
   "cell_type": "code",
   "execution_count": 9,
   "metadata": {
    "collapsed": false
   },
   "outputs": [
    {
     "data": {
      "image/png": "[encoded data removed]",
      "text/plain": [
       "<matplotlib.figure.Figure at 0x10de0f490>"
      ]
     },
     "metadata": {},
     "output_type": "display_data"
    }
   ],
   "source": [
    "f = 4*pi**2*sin(2*pi*x)\n",
    "\n",
    "# Imposing homogeneous BCs keeping A SPD\n",
    "A[0,:] = 0\n",
    "A[:,0] = 0\n",
    "A[0,0] = 1./h**2\n",
    "\n",
    "A[:,-1] = 0\n",
    "A[-1,:] = 0\n",
    "A[-1,-1] = 1./h**2\n",
    "\n",
    "f[0] = 0\n",
    "f[-1] = 0\n",
    "\n",
    "A1 = A.copy()\n",
    "\n",
    "u = linalg.solve(A1, f)\n",
    "\n",
    "u_ex = sin(2*pi*x)\n",
    "\n",
    "L,U = LU(A)\n",
    "\n",
    "y = L_solve(L,f)\n",
    "\n",
    "u = U_solve(U,y)\n",
    "\n",
    "_ = plot(x,u,'ro')\n",
    "_ = plot(x,u_ex)\n",
    "\n"
   ]
  },
  {
   "cell_type": "markdown",
   "metadata": {},
   "source": [
    "## Cholesky decomposition\n",
    "For symmetric and positive define matrices, the Cholesky is preferred since it reduce the number of flops for computing the LU decomposition by a factor of 2.\n",
    "\n",
    "$$\n",
    "A = H^T H\n",
    "$$\n",
    "where $H$ is an upper triangular matrix with all positive elements on the diagonal"
   ]
  },
  {
   "cell_type": "code",
   "execution_count": 10,
   "metadata": {
    "collapsed": false
   },
   "outputs": [
    {
     "data": {
      "image/png": "[encoded data removed]",
      "text/plain": [
       "<matplotlib.figure.Figure at 0x10e012a50>"
      ]
     },
     "metadata": {},
     "output_type": "display_data"
    }
   ],
   "source": [
    "def cholesky(A1):\n",
    "    A = A1.copy()\n",
    "    N = len(A)\n",
    "    for k in range(N-1):\n",
    "        A[k,k] = sqrt(A[k,k])\n",
    "        A[k+1:N,k] = A[k+1:N,k]/A[k,k]\n",
    "        \n",
    "        for j in range(k+1,N):\n",
    "            A[j:N,j] = A[j:N,j] - A[j:N,k]*A[j,k]\n",
    "        \n",
    "    A[-1,-1] = sqrt(A[-1,-1])\n",
    "    L=tril(A)\n",
    "    return L, L.transpose()\n",
    "\n",
    "\n",
    "HT, H = cholesky(A)\n",
    "\n",
    "y = L_solve(HT,f)\n",
    "u = U_solve(H,y)\n",
    "\n",
    "_ = plot(x,u,'ro')\n",
    "_ = plot(x,u_ex)\n"
   ]
  },
  {
   "cell_type": "markdown",
   "metadata": {},
   "source": [
    "### Comparison\n",
    "Time the two factorisations for three different matrix sizes (e.g., 1000, 2000, 3000) and plot the amounts of time. Verify that they scale as $N^3$"
   ]
  },
  {
   "cell_type": "code",
   "execution_count": 11,
   "metadata": {
    "collapsed": true
   },
   "outputs": [],
   "source": [
    "# YOUR CODE HERE\n",
    "# Cholesky half"
   ]
  },
  {
   "cell_type": "code",
   "execution_count": null,
   "metadata": {
    "collapsed": true
   },
   "outputs": [],
   "source": []
  }
 ],
 "metadata": {
  "anaconda-cloud": {},
  "kernelspec": {
   "display_name": "Python [conda env:python2]",
   "language": "python",
   "name": "conda-env-python2-py"
  },
  "language_info": {
   "codemirror_mode": {
    "name": "ipython",
    "version": 2
   },
   "file_extension": ".py",
   "mimetype": "text/x-python",
   "name": "python",
   "nbconvert_exporter": "python",
   "pygments_lexer": "ipython2",
   "version": "2.7.12"
  }
 },
 "nbformat": 4,
 "nbformat_minor": 1
}
