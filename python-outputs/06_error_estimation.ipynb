{
 "cells": [
  {
   "cell_type": "code",
   "execution_count": 1,
   "metadata": {
    "collapsed": false
   },
   "outputs": [],
   "source": [
    "%matplotlib inline\n",
    "import numpy as np\n",
    "import matplotlib.pyplot as plt\n",
    "import numpy.polynomial.polynomial as poly"
   ]
  },
  {
   "cell_type": "markdown",
   "metadata": {},
   "source": [
    "Constructing a function $f(x)$"
   ]
  },
  {
   "cell_type": "code",
   "execution_count": 4,
   "metadata": {
    "collapsed": false
   },
   "outputs": [],
   "source": [
    "# f = lambda x : x**2\n",
    "# print (f(4))"
   ]
  },
  {
   "cell_type": "markdown",
   "metadata": {},
   "source": [
    "Construct the dual $f^*$ of $f$.\n",
    "\n",
    "*Theory:* \n",
    "\n",
    "\\begin{align}\n",
    "    x &\\to \\mathbb R \\\\\n",
    "    x'' &\\to \\mathbb R \\\\\n",
    "    \\hat x (f) &= f(x)\n",
    "\\end{align}\n",
    "\n",
    "A number expressed as a function"
   ]
  },
  {
   "cell_type": "code",
   "execution_count": 5,
   "metadata": {
    "collapsed": false
   },
   "outputs": [],
   "source": [
    "# x = lambda f: f(4.)\n",
    "# g = lambda x: x**2\n",
    "# print (x(g))"
   ]
  },
  {
   "cell_type": "code",
   "execution_count": null,
   "metadata": {
    "collapsed": true
   },
   "outputs": [],
   "source": []
  },
  {
   "cell_type": "markdown",
   "metadata": {},
   "source": [
    "Construct a set of this special points, that given a function return a value, we call this set $\\hat N$ (the **set of nodal functions**, that are a basis for the dual space of $\\hat{\\mathcal{P}}^k([0,1])$). "
   ]
  },
  {
   "cell_type": "code",
   "execution_count": 6,
   "metadata": {
    "collapsed": true
   },
   "outputs": [],
   "source": [
    "# defined on some points on the domain [0,1]\n",
    "def construct_dual_basis_1():\n",
    "    N = []\n",
    "    N.append(lambda f: f(0.))\n",
    "    #N.append(lambda f: f(1./3))\n",
    "    #N.append(lambda f: f(.5))\n",
    "    #N.append(lambda f: f(2./3))\n",
    "    N.append(lambda f: f(1.))\n",
    "    return N\n",
    "\n",
    "def construct_dual_basis_2():\n",
    "    N = []\n",
    "    N.append(lambda f: f(0.))\n",
    "    #N.append(lambda f: f(1./3))\n",
    "    N.append(lambda f: f(.5))\n",
    "    #N.append(lambda f: f(2./3))\n",
    "    N.append(lambda f: f(1.))\n",
    "    return N\n",
    "\n",
    "def construct_dual_basis_3():\n",
    "    N = []\n",
    "    N.append(lambda f: f(0.))\n",
    "    N.append(lambda f: f(1./3))\n",
    "#     N.append(lambda f: f(.5))\n",
    "    N.append(lambda f: f(2./3))\n",
    "    N.append(lambda f: f(1.))\n",
    "    return N"
   ]
  },
  {
   "cell_type": "code",
   "execution_count": 8,
   "metadata": {
    "collapsed": false
   },
   "outputs": [],
   "source": [
    "# p = lambda p : p(0)\n",
    "# f = lambda x : x\n",
    "\n",
    "# Nk = construct_dual_basis_2()\n",
    "\n",
    "# print (Nk)\n",
    "# print (Nk[0](f))\n",
    "# print (Nk[1](f))"
   ]
  },
  {
   "cell_type": "markdown",
   "metadata": {},
   "source": [
    "$\\mathcal{P}^k([0,1]) = \\textrm{span}\\{e_i\\}_{i=0}^k =: \\textrm{span} E$\n",
    "As we are free to choose our polinomials, we pick them in their simplest possible form, monomials:\n",
    "$$\n",
    "e_i = \\mathrm{pow}(x,i)\n",
    "$$"
   ]
  },
  {
   "cell_type": "code",
   "execution_count": 14,
   "metadata": {
    "collapsed": true
   },
   "outputs": [],
   "source": [
    "def construct_poly(deg):\n",
    "    E = []\n",
    "    for i in range(deg+1):\n",
    "        c = np.zeros((i+1,))\n",
    "        c[-1] = 1\n",
    "        E.append(poly.Polynomial(c))\n",
    "    return E"
   ]
  },
  {
   "cell_type": "markdown",
   "metadata": {},
   "source": [
    "Sample finite elements: https://femtable.org/"
   ]
  },
  {
   "cell_type": "markdown",
   "metadata": {},
   "source": [
    "Simple finite element triplet:"
   ]
  },
  {
   "cell_type": "code",
   "execution_count": 15,
   "metadata": {
    "collapsed": false
   },
   "outputs": [
    {
     "name": "stdout",
     "output_type": "stream",
     "text": [
      "[0 1]\n",
      "[<function <lambda> at 0x10c0315f0>, <function <lambda> at 0x10c031668>, <function <lambda> at 0x10c0316e0>, <function <lambda> at 0x10c031758>]\n",
      "[Polynomial([ 1.], [-1,  1], [-1,  1]), Polynomial([ 0.,  1.], [-1,  1], [-1,  1]), Polynomial([ 0.,  0.,  1.], [-1,  1], [-1,  1]), Polynomial([ 0.,  0.,  0.,  1.], [-1,  1], [-1,  1])]\n"
     ]
    }
   ],
   "source": [
    "deg = 3\n",
    "\n",
    "Tk = np.array([0,1])          # domain of element\n",
    "Nk = construct_dual_basis_3()   # dual basis / generator of coefficients \n",
    "                              # degrees of freedom\n",
    "Pk = construct_poly(deg)      # polynomial basis\n",
    "print (Tk)\n",
    "print (Nk)\n",
    "print (Pk)"
   ]
  },
  {
   "cell_type": "markdown",
   "metadata": {},
   "source": [
    "We construct basis functions $v_i$ asking them to be those particular polynomials orthogonal to the degrees of freedom $v^j$. In a compact way this means:\n",
    "\n",
    "$$\n",
    "v^j\\, v_i = \\delta^j_i\n",
    "$$\n",
    "\n",
    "$v^j$ are a special kind of points that given a function the do return a value. We can write this value for the $k$-th polynomial:\n",
    "\n",
    "$v^j(e_k)$, and introduce the matrix $C_k^j$. This matrix clarifies the way canonical basis functions are related with the degrees of freedom:\n",
    "\n",
    "\n",
    "$$\n",
    "v^j\\, v_i = \\delta^j_i, \\quad v^j(e_k)\\, v^k_i = \\delta^j_i, \\quad C^j_k\\, v^k_i = \\delta^j_i\n",
    "$$\n",
    "\n",
    "Reading the last formula we get an easy way to construct the basis functions:\n",
    "\n",
    "$$\n",
    "v^k_i = (C^j_k)^{-1}\\delta^j_i\n",
    "$$\n",
    "\n",
    "In practice these $v^k_i$ are the cofficents for the polynomials that are going to become the basis for our space.  "
   ]
  },
  {
   "cell_type": "code",
   "execution_count": 16,
   "metadata": {
    "collapsed": false
   },
   "outputs": [
    {
     "data": {
      "text/plain": [
       "array([[ 1.        ,  0.        ,  0.        ,  0.        ],\n",
       "       [ 1.        ,  0.33333333,  0.11111111,  0.03703704],\n",
       "       [ 1.        ,  0.66666667,  0.44444444,  0.2962963 ],\n",
       "       [ 1.        ,  1.        ,  1.        ,  1.        ]])"
      ]
     },
     "execution_count": 16,
     "metadata": {},
     "output_type": "execute_result"
    }
   ],
   "source": [
    "def construct_cij(N,P):\n",
    "    C = np.zeros((0,len(P)))\n",
    "    for dof in N:\n",
    "        row = np.array([])\n",
    "        for p in P:\n",
    "            row = np.hstack((row,dof(p)))\n",
    "        C = np.vstack((C,row))\n",
    "    return C\n",
    "\n",
    "construct_cij(Nk,Pk)"
   ]
  },
  {
   "cell_type": "code",
   "execution_count": 17,
   "metadata": {
    "collapsed": true
   },
   "outputs": [],
   "source": [
    "def construct_canonical_basis(C):\n",
    "    V = []\n",
    "    for k in range(C.shape[0]):\n",
    "        delta_ij = np.zeros(C.shape[0])\n",
    "        delta_ij[k] = 1\n",
    "        vk = np.linalg.solve(C,delta_ij)\n",
    "        V.append(poly.Polynomial(vk))\n",
    "    return V"
   ]
  },
  {
   "cell_type": "code",
   "execution_count": 18,
   "metadata": {
    "collapsed": false
   },
   "outputs": [
    {
     "data": {
      "image/png": "[encoded data removed]",
      "text/plain": [
       "<matplotlib.figure.Figure at 0x10455eb50>"
      ]
     },
     "metadata": {},
     "output_type": "display_data"
    }
   ],
   "source": [
    "C = construct_cij(Nk,Pk)\n",
    "V = construct_canonical_basis(C)\n",
    "\n",
    "s = np.linspace(0,1,1025)\n",
    "for v in V:\n",
    "    plt.plot(s, v(s))\n",
    "plt.show()\n"
   ]
  },
  {
   "cell_type": "code",
   "execution_count": 19,
   "metadata": {
    "collapsed": true
   },
   "outputs": [],
   "source": [
    "from numpy.polynomial.legendre import leggauss\n",
    "\n",
    "def apply_matrx_bc(A):\n",
    "    ck = A[0,0]\n",
    "    A[0] = 0\n",
    "    A[0,0] = ck\n",
    "    \n",
    "    ck = A[-1,-1]\n",
    "    A[-1] = 0\n",
    "    A[-1,-1] = ck\n",
    "    \n",
    "def apply_rhs_bc(rhs):\n",
    "    rhs[0] = 0\n",
    "    rhs[-1] = 0\n",
    "\n",
    "def assemble_system(x,V,myf):\n",
    "    \n",
    "    h = 1./(len(x)-1)\n",
    "    print(h)\n",
    "    degree = 2*len(V)-1\n",
    "    q,w = leggauss(degree)  # Gauss between -1 and 1 \n",
    "                            # returns quadrature weights and quadrature points\n",
    "    q = (q+1)/2 # Go back to 0,1 \n",
    "    w = w/2\n",
    "    \n",
    "    Vq = np.zeros((len(V), len(q)))\n",
    "    Vpq = np.zeros((len(V), len(q)))\n",
    "\n",
    "    for i in range(len(V)):\n",
    "        Vq[i] = V[i](q)\n",
    "        Vpq[i] = V[i].deriv()(q)\n",
    "\n",
    "    n_dofs = (len(x)-1)*(len(V)-1)+1\n",
    "    \n",
    "    # Prepare the global variables\n",
    "    A = np.zeros((n_dofs, n_dofs))      # stiffness matrix / gradu-gradv matrix\n",
    "    M = np.zeros((n_dofs, n_dofs))      # mass matrix\n",
    "    rhs = np.zeros((n_dofs,))\n",
    "\n",
    "    # Construct the local matrix only once:\n",
    "    local_A = np.einsum('jq, iq, q -> ij', Vpq/h, Vpq/h, w*h)\n",
    "    local_M = np.einsum('jq, iq, q -> ij', Vq, Vq, w*h)\n",
    "\n",
    "    for i in range(len(x)-1):\n",
    "        start = i*(len(V)-1)\n",
    "        end = start+len(V)\n",
    "\n",
    "        index = range(start, end)\n",
    "        A[np.ix_(index, index)] += local_A\n",
    "        M[np.ix_(index, index)] += local_M\n",
    "\n",
    "        # The transformation of the quadrature points\n",
    "        xq = x[i]+h*q\n",
    "        local_rhs = np.einsum('iq, q, q -> i', Vq, w*h, myf(xq))\n",
    "\n",
    "        rhs[index] += local_rhs\n",
    "\n",
    "    # Fix the boundary conditions\n",
    "    apply_matrx_bc(A)\n",
    "    apply_matrx_bc(M)\n",
    "    apply_rhs_bc(rhs)\n",
    "    #ck = A[0,0]\n",
    "    #A[0] = 0\n",
    "    #A[0,0] = ck\n",
    "    #rhs[0] = 0\n",
    "\n",
    "    \n",
    "    #ck = A[-1,-1]\n",
    "    #A[-1] = 0\n",
    "    #A[-1,-1] = ck\n",
    "    #rhs[-1] = 0        \n",
    "\n",
    "    return A,M,rhs"
   ]
  },
  {
   "cell_type": "code",
   "execution_count": 20,
   "metadata": {
    "collapsed": false
   },
   "outputs": [],
   "source": [
    "def evaluate_l2_error(x,V,u,exact_sol):\n",
    "    '''Evaluate the L^2 norm of the error'''\n",
    "    h = 1./(len(x)-1)\n",
    "\n",
    "    degree = 2*len(V)-1\n",
    "    q,w = leggauss(degree)  # Gauss between -1 and 1 \n",
    "                            # returns quadrature weights and quadrature points\n",
    "    q = (q+1)/2 # Go back to 0,1 \n",
    "    w = w/2\n",
    "    \n",
    "    Vq = np.zeros((len(V), len(q)))\n",
    "    Vpq = np.zeros((len(V), len(q)))\n",
    "\n",
    "    for i in range(len(V)):\n",
    "        Vq[i] = V[i](q)\n",
    "        Vpq[i] = V[i].deriv()(q)\n",
    "\n",
    "    error = 0\n",
    "    for i in range(len(x)-1):\n",
    "        start = i*(len(V)-1)\n",
    "        end = start+len(V)\n",
    "\n",
    "        index = range(start, end)\n",
    "        xq = x[i] + q*h\n",
    "    \n",
    "        fem_sol = np.einsum( 'j, jq -> q', u[index], Vq)\n",
    "        an_sol = exact_sol(xq)\n",
    "        \n",
    "        error += np.sum( (fem_sol-an_sol)**2 * w )\n",
    "\n",
    "    return np.sqrt(error)\n",
    "# def evaluate_h1_error(x,V,u,exact_sol_der):"
   ]
  },
  {
   "cell_type": "code",
   "execution_count": 21,
   "metadata": {
    "collapsed": false
   },
   "outputs": [],
   "source": [
    "# construct the exact solution\n",
    "import sympy as sym\n",
    "t = sym.var('t')\n",
    "sol = t**2*(1-t)\n",
    "force_a = -1*sym.diff(sol,t,2)"
   ]
  },
  {
   "cell_type": "code",
   "execution_count": 22,
   "metadata": {
    "collapsed": false
   },
   "outputs": [
    {
     "name": "stdout",
     "output_type": "stream",
     "text": [
      "0.25\n",
      "0.111111111111\n",
      "0.0625\n",
      "0.04\n",
      "0.0277777777778\n",
      "0.0204081632653\n",
      "0.015625\n",
      "0.0123456790123\n"
     ]
    },
    {
     "data": {
      "image/png": "[encoded data removed]",
      "text/plain": [
       "<matplotlib.figure.Figure at 0x10bdb5a10>"
      ]
     },
     "metadata": {},
     "output_type": "display_data"
    }
   ],
   "source": [
    "dx = []\n",
    "l2_error = []\n",
    "\n",
    "for n in np.arange(2,10):\n",
    "    n = n**2+1\n",
    "    x = np.linspace(0,1,n)\n",
    "    \n",
    "    dx.append(1.0/(n-1.0))\n",
    "    \n",
    "    force = sym.lambdify(t,force_a,\"numpy\")\n",
    "    sol_n = sym.lambdify(t,sol,\"numpy\")\n",
    "    A,M,rhs = assemble_system(x,V,force)\n",
    "\n",
    "    ufem = np.linalg.solve(A,rhs)\n",
    "\n",
    "    l2_error.append(evaluate_l2_error(x,V,ufem,sol_n))\n",
    "\n",
    "_=plt.loglog(dx,l2_error,'-o')\n",
    "# _=plt.loglog(dx,np.array(dx)**2,'--',label='$h^2$')\n",
    "# _=plt.loglog(dx,np.array(dx)**(1.5),'--',label='$h^{3/2}$')\n",
    "# _=plt.legend(loc=0)"
   ]
  },
  {
   "cell_type": "code",
   "execution_count": null,
   "metadata": {
    "collapsed": true
   },
   "outputs": [],
   "source": []
  },
  {
   "cell_type": "code",
   "execution_count": 23,
   "metadata": {
    "collapsed": false
   },
   "outputs": [
    {
     "data": {
      "text/plain": [
       "1.63733964"
      ]
     },
     "execution_count": 23,
     "metadata": {},
     "output_type": "execute_result"
    }
   ],
   "source": [
    "1.63733964"
   ]
  },
  {
   "cell_type": "code",
   "execution_count": 24,
   "metadata": {
    "collapsed": true
   },
   "outputs": [],
   "source": [
    "def interpolation_matrix(s, x, V):\n",
    "    \"\"\"\n",
    "    Given the evaluation points s in the mesh x, construct the interpolation matrix \n",
    "    according to the local basis V.\n",
    "    \"\"\"\n",
    "    n_dofs = (len(x)-1)*(len(V)-1)+1\n",
    "\n",
    "    M = np.zeros((n_dofs, len(s)))\n",
    "    for i in range(len(x)-1):\n",
    "        index = s>=x[i]\n",
    "        index *= s<=x[i+1]\n",
    "        \n",
    "        # Transform the points to [0,1]\n",
    "        xi = (s[index]-x[i])/(x[i+1]-x[i])\n",
    "        \n",
    "        for j in range(len(V)):\n",
    "            k = i*(len(v)-1)+j\n",
    "            M[k,index] = V[j](xi)\n",
    "    return M"
   ]
  },
  {
   "cell_type": "code",
   "execution_count": 25,
   "metadata": {
    "collapsed": false
   },
   "outputs": [
    {
     "name": "stdout",
     "output_type": "stream",
     "text": [
      "('Error at the s points:', 2.298161660974074e-14)\n",
      "('Error at the x points:', 2.2815083156046967e-14)\n"
     ]
    },
    {
     "data": {
      "image/png": "[encoded data removed]",
      "text/plain": [
       "<matplotlib.figure.Figure at 0x10bfe02d0>"
      ]
     },
     "metadata": {},
     "output_type": "display_data"
    }
   ],
   "source": [
    "sol_n = sym.lambdify(t,sol,\"numpy\")\n",
    "s = np.linspace(0,1,1025)\n",
    "us = sol_n(s)\n",
    "# x = np.linspace(0,1,9)\n",
    "ux = sol_n(x)\n",
    "# us = np.sin(2*np.pi*s)\n",
    "# ux = np.sin(2*np.pi*x)\n",
    "\n",
    "# Use this to plot high resolution versions\n",
    "M = interpolation_matrix(s,x,V)\n",
    "\n",
    "# Use this to compute errors at the mesh points\n",
    "Mx = interpolation_matrix(x,x,V)\n",
    "\n",
    "plt.plot(s, M.T.dot(ufem))\n",
    "plt.plot(s, us)\n",
    "plt.plot(x, ux,'ro')\n",
    "\n",
    "print(\"Error at the s points:\", (M.T.dot(ufem)-us).max())\n",
    "print(\"Error at the x points:\", (Mx.T.dot(ufem)-ux).max())"
   ]
  },
  {
   "cell_type": "code",
   "execution_count": null,
   "metadata": {
    "collapsed": false
   },
   "outputs": [],
   "source": []
  },
  {
   "cell_type": "code",
   "execution_count": null,
   "metadata": {
    "collapsed": false
   },
   "outputs": [],
   "source": []
  },
  {
   "cell_type": "code",
   "execution_count": null,
   "metadata": {
    "collapsed": true
   },
   "outputs": [],
   "source": []
  }
 ],
 "metadata": {
  "anaconda-cloud": {},
  "kernelspec": {
   "display_name": "Python [conda env:python2]",
   "language": "python",
   "name": "conda-env-python2-py"
  },
  "language_info": {
   "codemirror_mode": {
    "name": "ipython",
    "version": 2
   },
   "file_extension": ".py",
   "mimetype": "text/x-python",
   "name": "python",
   "nbconvert_exporter": "python",
   "pygments_lexer": "ipython2",
   "version": "2.7.12"
  }
 },
 "nbformat": 4,
 "nbformat_minor": 0
}
