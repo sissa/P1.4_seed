{
 "cells": [
  {
   "cell_type": "markdown",
   "metadata": {},
   "source": [
    "# Iterative methods for solving linear systems\n",
    "\n",
    "\n"
   ]
  },
  {
   "cell_type": "markdown",
   "metadata": {},
   "source": [
    "Let us consider an elastic cable fixed at the extremes occupying at rest the space $[0,1]$. We apply on it a given force $f(x)$. Its displacement at the point $x$, $u(x)$ is the solution of the following problem:\n",
    "$$\n",
    "-u_h''(x) = f(x)\\ \\mathrm{ in }\\ [0,1]\n",
    "$$\n",
    "\n",
    "$$\n",
    "u_h(0) = 0, \\quad u_h(1) = 0\n",
    "$$\n",
    "\n",
    "For the sake of simplicity we consider a uniform discretisation of the interval $[0,1]$ using $n$ equispaced *sample points* to construct a **Finite Difference Approximation**."
   ]
  },
  {
   "cell_type": "code",
   "execution_count": 1,
   "metadata": {
    "collapsed": false
   },
   "outputs": [],
   "source": [
    "%matplotlib inline\n",
    "from numpy import *\n",
    "from matplotlib.pyplot import *\n",
    "import numpy.linalg\n",
    "\n",
    "n = 33\n",
    "h = 1./(n-1)\n",
    "\n",
    "x=linspace(0,1,n)"
   ]
  },
  {
   "cell_type": "markdown",
   "metadata": {},
   "source": [
    "# Central finite difference approximation\n",
    "\n",
    "We consider the approximation\n",
    "\n",
    "$$\n",
    "-u''_i := \\frac{-u_{i-1} + 2u_i - u_{i+1}}{h^2}\n",
    "$$\n",
    "\n",
    "and solve the linear system\n",
    "\n",
    "$$\n",
    "\\frac{-u_{i-1} + 2u_i - u_{i+1}}{h^2} = f_i \\qquad i=1,\\ldots,n-2\n",
    "$$\n",
    "\n",
    "This results in a tridiagonal matrix with $n-2$ entries. We assemble all of the entries anyway, and then perform a **line elimination** to make the system solvable. This is typical of problems with **Dirichlet Boundary conditions**."
   ]
  },
  {
   "cell_type": "code",
   "execution_count": 2,
   "metadata": {
    "collapsed": false,
    "scrolled": true
   },
   "outputs": [
    {
     "name": "stdout",
     "output_type": "stream",
     "text": [
      "[[ 2. -1.  0. ...,  0.  0.  0.]\n",
      " [-1.  2. -1. ...,  0.  0.  0.]\n",
      " [ 0. -1.  2. ...,  0.  0.  0.]\n",
      " ..., \n",
      " [ 0.  0.  0. ...,  2. -1.  0.]\n",
      " [ 0.  0.  0. ..., -1.  2. -1.]\n",
      " [ 0.  0.  0. ...,  0. -1.  2.]]\n",
      "467.842628839\n"
     ]
    }
   ],
   "source": [
    "a = -ones((n-1,)) # Offdiagonal entries\n",
    "b = 2*ones((n,)) # Diagonal entries\n",
    "A = (diag(a, -1) + diag(b, 0) + diag(a, +1))\n",
    "print(A)\n",
    "\n",
    "# Now we scale it to 1/h^2\n",
    "A /= h**2\n",
    "\n",
    "print(linalg.cond(A))"
   ]
  },
  {
   "cell_type": "markdown",
   "metadata": {},
   "source": [
    "Now let's consider a simple right hand side:\n",
    "\n",
    "$$\n",
    "f_i = x_i(1-x_i)\n",
    "$$\n",
    "which gives as exact solution\n",
    "\n",
    "$$\n",
    "u_{\\mathrm{exact}} = \\frac{x^4}{12} - \\frac{x^3}{6} +\\frac{x}{12}\n",
    "$$\n"
   ]
  },
  {
   "cell_type": "code",
   "execution_count": 3,
   "metadata": {
    "collapsed": false,
    "scrolled": true
   },
   "outputs": [
    {
     "data": {
      "image/png": "[encoded data removed]",
      "text/plain": [
       "<matplotlib.figure.Figure at 0x10a7b8c10>"
      ]
     },
     "metadata": {},
     "output_type": "display_data"
    }
   ],
   "source": [
    "f =x*(1.-x)\n",
    "\n",
    "# Imposing homogeneous BCs keeping A SPD\n",
    "A[0,:] = 0\n",
    "A[:,0] = 0\n",
    "A[0,0] = 1.\n",
    "\n",
    "A[:,-1] = 0\n",
    "A[-1,:] = 0\n",
    "A[-1,-1] = 1\n",
    "\n",
    "f[0] = 0\n",
    "f[-1] = 0\n",
    "\n",
    "A1 = A.copy()\n",
    "\n",
    "u = linalg.solve(A1, f)\n",
    "\n",
    "u_ex = (x**4)/12. - (x**3)/6. + x/12.\n",
    "\n",
    "_ = plot(x,u,'ro')\n",
    "_ = plot(x,u_ex)\n"
   ]
  },
  {
   "cell_type": "markdown",
   "metadata": {},
   "source": [
    "## Jacobi\n",
    "\n",
    "$$ \n",
    "x_i^{k+1} = \\frac{1}{A_{ii}} \\times \\left(b_i - \\sum_{j\\neq i} a_{ij}x_j^k\\right)\n",
    "$$\n",
    "\n"
   ]
  },
  {
   "cell_type": "code",
   "execution_count": 23,
   "metadata": {
    "collapsed": false
   },
   "outputs": [
    {
     "data": {
      "text/plain": [
       "array([[ 0,  1,  2,  3],\n",
       "       [ 4,  5,  6,  7],\n",
       "       [ 8,  9, 10, 11],\n",
       "       [12, 13, 14, 15]])"
      ]
     },
     "execution_count": 23,
     "metadata": {},
     "output_type": "execute_result"
    }
   ],
   "source": [
    "s = arange(16).reshape((4,4))\n",
    "\n",
    "s"
   ]
  },
  {
   "cell_type": "code",
   "execution_count": 46,
   "metadata": {
    "collapsed": false,
    "scrolled": true
   },
   "outputs": [
    {
     "name": "stdout",
     "output_type": "stream",
     "text": [
      "4777 9.99278393347e-11\n"
     ]
    },
    {
     "data": {
      "text/plain": [
       "8.4049067552872592e-05"
      ]
     },
     "execution_count": 46,
     "metadata": {},
     "output_type": "execute_result"
    }
   ],
   "source": [
    "def jacobi(A,b,nmax=10000,eps=1e-10):\n",
    "    n = len(b)\n",
    "    x = zeros_like(b)\n",
    "    x_old = zeros_like(b)\n",
    "    it = 0\n",
    "    tol = eps+1\n",
    "    while (it < nmax and tol > eps):\n",
    "        it += 1\n",
    "        for i in range(n):\n",
    "            x[i] = 1/A[i,i] * ( b [i] - dot( A[i,:i], x_old[:i] ) - dot( A[i,i+1:], x_old[i+1:] ) )\n",
    "            \n",
    "        res = b - dot(A,x)\n",
    "        tol = numpy.linalg.norm(res,2)\n",
    "        \n",
    "        x_old = x.copy()\n",
    "    \n",
    "    print it, tol\n",
    "    return x\n",
    "\n",
    "sol_jacobi = jacobi(A,f)\n",
    "numpy.linalg.norm(u_ex - sol_jacobi,2)"
   ]
  },
  {
   "cell_type": "markdown",
   "metadata": {},
   "source": [
    "## Gauss-Seidel\n",
    "\n",
    "$$ \n",
    "x_i^{k+1} = \\frac{1}{A_{ii}} \\times \\left(b_i - \\sum_{j=0}^{i-1} a_{ij}x_j^{k+1} - \\sum_{j=i+1}^{N} a_{ij}x_j^k\\right)\n",
    "$$"
   ]
  },
  {
   "cell_type": "code",
   "execution_count": 47,
   "metadata": {
    "collapsed": false
   },
   "outputs": [
    {
     "name": "stdout",
     "output_type": "stream",
     "text": [
      "2390 9.95304639169e-11\n"
     ]
    },
    {
     "data": {
      "text/plain": [
       "8.4049067666181233e-05"
      ]
     },
     "execution_count": 47,
     "metadata": {},
     "output_type": "execute_result"
    }
   ],
   "source": [
    "def GS(A,b,nmax=10000,eps=1e-10):\n",
    "    n = len(b)\n",
    "    x = zeros_like(b)\n",
    "    x_old = zeros_like(b)\n",
    "    it = 0\n",
    "    tol = eps+1\n",
    "    while (it < nmax and tol > eps):\n",
    "        it += 1\n",
    "        for i in range(n):\n",
    "            x[i] = 1/A[i,i] * ( b [i] - dot( A[i,:i], x[:i] ) - dot( A[i,i+1:], x_old[i+1:] ) )\n",
    "            \n",
    "        res = b - dot(A,x)\n",
    "        tol = numpy.linalg.norm(res,2)\n",
    "        \n",
    "        x_old = x.copy()\n",
    "    \n",
    "    print it, tol\n",
    "    return x\n",
    "\n",
    "sol_GS = GS(A,f)\n",
    "numpy.linalg.norm(u_ex - sol_GS,2)"
   ]
  },
  {
   "cell_type": "markdown",
   "metadata": {
    "collapsed": true
   },
   "source": [
    "   ## Gradient method\n",
    "   $$\n",
    "   {\\bf r}^k = {\\bf b} - A {\\bf x}^k\n",
    "   $$\n",
    "   \n",
    "   $$\n",
    "   \\alpha^k = \\frac{{\\bf r}^{k^{T}} {\\bf r}^k}{{\\bf r}^{k^{T}} A{\\bf r}^k}\n",
    "   $$\n",
    "   \n",
    "   $$\n",
    "   {\\bf x}^{k+1} = {\\bf x}^k + \\alpha^k {\\bf r}^k\n",
    "   $$\n",
    "   \n",
    "   ### preconditioned\n",
    "   \n",
    "   $$\n",
    "   {\\bf z}^k = P^{-1} {\\bf r}^k\n",
    "   $$\n",
    "   \n",
    "   $$\n",
    "   \\alpha^k = \\frac{{\\bf z}^{k^{T}} {\\bf r}^k}{{\\bf z}^{k^{T}} A{\\bf z}^k}\n",
    "   $$\n",
    " \n",
    "   "
   ]
  },
  {
   "cell_type": "code",
   "execution_count": 71,
   "metadata": {
    "collapsed": false
   },
   "outputs": [
    {
     "name": "stdout",
     "output_type": "stream",
     "text": [
      "1 1.19918752609e-14\n",
      "3909 9.9475393419e-11\n",
      "3909 9.9475393419e-11\n"
     ]
    },
    {
     "data": {
      "text/plain": [
       "8.4049070258093161e-05"
      ]
     },
     "execution_count": 71,
     "metadata": {},
     "output_type": "execute_result"
    }
   ],
   "source": [
    "def gradient(A,b,P=None,nmax=10000,eps=1e-10):\n",
    "    \n",
    "    x = zeros_like(b)\n",
    "    \n",
    "    it = 0\n",
    "    tol = eps+1\n",
    "    \n",
    "    res = b - dot(A,x)\n",
    "    \n",
    "    while (it < nmax and tol > eps):\n",
    "        it += 1\n",
    "        \n",
    "        if P is not None:\n",
    "            z = numpy.linalg.solve(P,res)\n",
    "        else:\n",
    "            z = res\n",
    "                \n",
    "        alpha = dot(z,res) / dot(z, dot(A,z) )\n",
    "        x += alpha * z\n",
    "            \n",
    "        res -= alpha * dot(A,z)\n",
    "        tol = numpy.linalg.norm(res,2)\n",
    "            \n",
    "    print it, tol\n",
    "    return x\n",
    "\n",
    "sol_gradient = gradient(A,f,A)\n",
    "sol_gradient = gradient(A,f,eye(len(A)) )\n",
    "sol_gradient = gradient(A,f)\n",
    "numpy.linalg.norm(u_ex - sol_gradient,2)\n"
   ]
  },
  {
   "cell_type": "markdown",
   "metadata": {},
   "source": [
    "## Coniugate gradient\n",
    "   \n",
    "   $$\n",
    "   \\alpha^k = \\frac{{\\bf p}^{k^{T}} {\\bf r}^k}{{\\bf p}^{k^{T}} A{\\bf p}^k}\n",
    "   $$\n",
    "   \n",
    "      \n",
    "   $$\n",
    "   {\\bf x}^{k+1} = {\\bf x}^k + \\alpha^k {\\bf p}^k\n",
    "   $$\n",
    "   \n",
    "   $$\n",
    "   {\\bf r}^{k+1} = {\\bf r}^k - \\alpha^kA {\\bf p}^k\n",
    "   $$\n",
    "\n",
    "   $$\n",
    "   \\beta^k = \\frac{(A{\\bf p}^{k})^{T}{\\bf r}^{k+1}}{(A{\\bf p}^{k})^{T}  {\\bf p}^k}\n",
    "   $$\n",
    "   \n",
    "   $$\n",
    "   {\\bf p}^{k+1} = {\\bf r}^{k+1} - \\beta^k{\\bf p}^k\n",
    "   $$\n",
    "\n",
    "   \n",
    "   ### preconditioned\n",
    "   \n",
    "   \n",
    "   $$\n",
    "   \\alpha^k = \\frac{{\\bf p}^{k^{T}} {\\bf r}^k}{(A{\\bf p}^{k})^{T}{\\bf p}^k}\n",
    "   $$\n",
    "   \n",
    "      \n",
    "   $$\n",
    "   {\\bf x}^{k+1} = {\\bf x}^k + \\alpha^k {\\bf p}^k\n",
    "   $$\n",
    "   \n",
    "   $$\n",
    "   {\\bf r}^{k+1} = {\\bf r}^k - \\alpha^kA {\\bf p}^k\n",
    "   $$\n",
    "\n",
    "$$\n",
    "P{\\bf z}^{k+1} = {\\bf r}^{k+1}\n",
    "$$\n",
    "\n",
    "   $$\n",
    "   \\beta^k = \\frac{(A{\\bf p}^{k})^{T}{\\bf z}^{k+1}}{{\\bf p}^{k^T}A  {\\bf p}^k}\n",
    "   $$\n",
    "   \n",
    "   $$\n",
    "   {\\bf p}^{k+1} = {\\bf z}^{k+1} - \\beta^k{\\bf p}^k\n",
    "   $$\n"
   ]
  },
  {
   "cell_type": "code",
   "execution_count": 145,
   "metadata": {
    "collapsed": false
   },
   "outputs": [
    {
     "name": "stdout",
     "output_type": "stream",
     "text": [
      "1 1.19918752609e-14\n",
      "8.40490776784e-05\n",
      "16 2.20685456193e-17\n",
      "8.40490776785e-05\n",
      "16 2.20685456193e-17\n",
      "8.40490776785e-05\n"
     ]
    }
   ],
   "source": [
    "def CG(A,b,P=None,nmax=10000,eps=1e-10):\n",
    "    n = len(A)\n",
    "    x = zeros_like(b)\n",
    "    \n",
    "    it = 0\n",
    "    tol = eps+1\n",
    "    \n",
    "    res = b - dot(A,x)\n",
    "\n",
    "    if P is not None:\n",
    "        z = numpy.linalg.solve(P,res)\n",
    "    else:\n",
    "        z = res.copy()\n",
    "        \n",
    "    p = z.copy()\n",
    "    \n",
    "    while (it < n and tol > eps):\n",
    "        it += 1\n",
    "        \n",
    "        q   = dot(A,p)\n",
    "        pAp = dot(p,q)\n",
    "                \n",
    "        alpha = dot(p,res) / pAp\n",
    "        x += alpha * p\n",
    "        \n",
    "        res -= alpha * q\n",
    "        \n",
    "        tol = numpy.linalg.norm(res,2)\n",
    "        \n",
    "        if P is not None:\n",
    "            z = numpy.linalg.solve(P,res)\n",
    "        else:\n",
    "            z = res.copy()\n",
    "        \n",
    "        beta = dot(q,z) / pAp\n",
    "        p = z - beta * p      \n",
    "        \n",
    "            \n",
    "    print it, tol\n",
    "    return x\n",
    "\n",
    "sol_CG = CG(A,f,A)\n",
    "print numpy.linalg.norm(u_ex - sol_CG,2)\n",
    "sol_CG = CG(A,f,eye(len(A)))\n",
    "print numpy.linalg.norm(u_ex - sol_CG,2)\n",
    "sol_CG = CG(A,f)\n",
    "print numpy.linalg.norm(u_ex - sol_CG,2)"
   ]
  },
  {
   "cell_type": "markdown",
   "metadata": {},
   "source": [
    "## compare the performances of the methods"
   ]
  },
  {
   "cell_type": "code",
   "execution_count": null,
   "metadata": {
    "collapsed": true
   },
   "outputs": [],
   "source": []
  },
  {
   "cell_type": "code",
   "execution_count": null,
   "metadata": {
    "collapsed": true
   },
   "outputs": [],
   "source": []
  }
 ],
 "metadata": {
  "anaconda-cloud": {},
  "kernelspec": {
   "display_name": "Python [conda env:python2]",
   "language": "python",
   "name": "conda-env-python2-py"
  },
  "language_info": {
   "codemirror_mode": {
    "name": "ipython",
    "version": 2
   },
   "file_extension": ".py",
   "mimetype": "text/x-python",
   "name": "python",
   "nbconvert_exporter": "python",
   "pygments_lexer": "ipython2",
   "version": "2.7.12"
  }
 },
 "nbformat": 4,
 "nbformat_minor": 1
}
