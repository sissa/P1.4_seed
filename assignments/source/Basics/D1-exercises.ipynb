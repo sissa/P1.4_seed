{
 "cells": [
  {
   "cell_type": "markdown",
   "metadata": {
    "nbgrader": {
     "grade": false,
     "grade_id": "random_desc",
     "locked": true,
     "solution": false
    }
   },
   "source": [
    "# Pure Python evaluation of vector norms\n",
    "\n",
    "Generate a list of random floats of a given dimension (dim), and store its result in the variable `vec`."
   ]
  },
  {
   "cell_type": "code",
   "execution_count": 1,
   "metadata": {
    "collapsed": false,
    "nbgrader": {
     "grade": false,
     "grade_id": "random",
     "locked": false,
     "solution": true
    }
   },
   "outputs": [
    {
     "name": "stdout",
     "output_type": "stream",
     "text": [
      "Populating the interactive namespace from numpy and matplotlib\n"
     ]
    }
   ],
   "source": [
    "# This is used for plots and numpy\n",
    "%pylab inline \n",
    "\n",
    "import random\n",
    "dim = int(1000)\n",
    "\n",
    "### BEGIN SOLUTION\n",
    "vec = [random.random() for i in range(dim)]\n",
    "### END SOLUTION"
   ]
  },
  {
   "cell_type": "code",
   "execution_count": 2,
   "metadata": {
    "collapsed": false,
    "nbgrader": {
     "grade": true,
     "grade_id": "random_check",
     "locked": true,
     "points": 3,
     "solution": false
    }
   },
   "outputs": [],
   "source": [
    "from numpy.testing import *\n",
    "\n",
    "assert_equal(type(vec), list)\n",
    "assert_equal(len(vec), dim)\n",
    "for ob in vec:\n",
    "    assert_equal(type(ob), float)"
   ]
  },
  {
   "cell_type": "markdown",
   "metadata": {
    "nbgrader": {
     "grade": false,
     "grade_id": "norm-desc",
     "locked": true,
     "solution": false
    }
   },
   "source": [
    "Write a function that evaluates the $l_p$ norm of a vector in $R^d$. We remind:\n",
    "$$\n",
    "\\|v \\|_{p} := \\left(\\sum_i (v_i)^p\\right)^{1/p}\n",
    "$$\n",
    "\n",
    "the function should take as arguments a `list`, containing your $R^d$ vector, and a number `p` in the range $[1, \\infty]$, indicating the exponent of the norm. \n",
    "\n",
    "**Note:** an infinite float number is given by `float(\"inf\")`.\n",
    "\n",
    "Throw an assertion (look it up on google!) if the exponent is not in the range you expect."
   ]
  },
  {
   "cell_type": "code",
   "execution_count": 3,
   "metadata": {
    "collapsed": false,
    "nbgrader": {
     "grade": false,
     "grade_id": "norm",
     "locked": false,
     "solution": true
    }
   },
   "outputs": [],
   "source": [
    "def p_norm(vector,p):\n",
    "    ### BEGIN SOLUTION\n",
    "    assert p >= 1, 'The exponent p (you used '+str(p)+') has to be >=1.'\n",
    "    if p >= 1 and p < float(\"inf\"):\n",
    "        norm = 0\n",
    "        for v in vector:\n",
    "            norm+= abs(v)**p\n",
    "        exponent = 1./float(p)\n",
    "        return norm**exponent\n",
    "    else:\n",
    "        norm = 0\n",
    "        for v in vector:\n",
    "            norm = max(abs(v), norm)\n",
    "        return norm\n",
    "    ### END SOLUTION"
   ]
  },
  {
   "cell_type": "code",
   "execution_count": 4,
   "metadata": {
    "collapsed": false,
    "nbgrader": {
     "grade": true,
     "grade_id": "norm-check-1",
     "locked": true,
     "points": 1,
     "solution": false
    }
   },
   "outputs": [],
   "source": [
    "assert_equal(p_norm(range(10),1), 45.0)\n",
    "assert_equal(p_norm([3,4], 2), 5.0)"
   ]
  },
  {
   "cell_type": "code",
   "execution_count": 5,
   "metadata": {
    "collapsed": true,
    "nbgrader": {
     "grade": true,
     "grade_id": "norm-check-2",
     "locked": true,
     "points": 1,
     "solution": false
    }
   },
   "outputs": [],
   "source": [
    "assert_equal(p_norm([-1,-.5,.5], float(\"inf\")), 1)"
   ]
  },
  {
   "cell_type": "code",
   "execution_count": 6,
   "metadata": {
    "collapsed": false,
    "nbgrader": {
     "grade": true,
     "grade_id": "norm-check-3",
     "locked": true,
     "points": 1,
     "solution": false
    }
   },
   "outputs": [],
   "source": [
    "assert_raises(AssertionError, p_norm, [2,3], 0)\n",
    "assert_raises(AssertionError, p_norm, [2,3], -1)"
   ]
  },
  {
   "cell_type": "markdown",
   "metadata": {
    "nbgrader": {
     "grade": false,
     "grade_id": "fd-desc",
     "locked": true,
     "solution": false
    }
   },
   "source": [
    "# Playing with condition numbers\n",
    "\n",
    "\n",
    "In this exercise you will have to figure out what are the optimal\n",
    "values of the stepping interval when approximating derivatives using\n",
    "the finite difference method. See here_ for a short introduction on\n",
    "how to run these programs on SISSA machines.\n",
    "\n",
    "## 1. Finite differences\n",
    "Write a program to compute the finite difference (`FD`)\n",
    "approximation of the derivative of a function `f`, computed at\n",
    "point `x`, using a stepping of size `h`. Recall the definition of\n",
    "approximate derivative:\n",
    "\n",
    "$$\n",
    "FD(f,x,h) := \\frac{f(x+h)-f(x)}{h}\n",
    "$$"
   ]
  },
  {
   "cell_type": "code",
   "execution_count": 7,
   "metadata": {
    "collapsed": false,
    "nbgrader": {
     "grade": false,
     "grade_id": "fd",
     "locked": false,
     "solution": true
    }
   },
   "outputs": [],
   "source": [
    "def FD(f, x, h):\n",
    "    ### BEGIN SOLUTION\n",
    "    return (f(x+h)-f(x))/h\n",
    "    ### END SOLUTION"
   ]
  },
  {
   "cell_type": "code",
   "execution_count": 8,
   "metadata": {
    "collapsed": false,
    "nbgrader": {
     "grade": true,
     "grade_id": "fd-check-1",
     "locked": true,
     "points": 1,
     "solution": false
    }
   },
   "outputs": [],
   "source": [
    "assert_equal(FD(lambda x: x, 0, .125), 1.0)"
   ]
  },
  {
   "cell_type": "markdown",
   "metadata": {
    "nbgrader": {
     "grade": false,
     "grade_id": "fd2-desc",
     "locked": true,
     "solution": false
    }
   },
   "source": [
    "## 2. Compute FD\n",
    "\n",
    "Evaluate this function for the derivative of `sin(x)` evaluated at `x=1`, for values of `h` equal to `1e-i`, with `i=0,...,20`. Store the values of the finite differences in the list `fd1`."
   ]
  },
  {
   "cell_type": "code",
   "execution_count": 9,
   "metadata": {
    "collapsed": false,
    "nbgrader": {
     "grade": false,
     "grade_id": "fd2",
     "locked": false,
     "points": 1,
     "solution": true
    }
   },
   "outputs": [],
   "source": [
    "hs1 = [10.0**(-i) for i in arange(0,21)]\n",
    "fd1 = [FD(sin, 1.0, h) for h in hs1]"
   ]
  },
  {
   "cell_type": "code",
   "execution_count": 10,
   "metadata": {
    "collapsed": false,
    "nbgrader": {
     "grade": true,
     "grade_id": "fd2-check1",
     "locked": true,
     "points": 1,
     "solution": false
    }
   },
   "outputs": [],
   "source": [
    "assert_equal(len(fd1), 21)\n",
    "expected = [0.067826442017785205, 0.49736375253538911, 0.53608598101186899, 0.5398814803603269, 0.54026023141862112, 0.54029809850586474, 0.54030188512133037, 0.54030226404044868, 0.54030229179602429, 0.54030235840940577, 0.54030224738710331, 0.54030113716407868, 0.54034554608506369, 0.53956838996782608, 0.53290705182007514, 0.55511151231257827, 0.0, 0.0, 0.0, 0.0, 0.0]\n",
    "assert_almost_equal(fd1,expected,decimal=4)"
   ]
  },
  {
   "cell_type": "markdown",
   "metadata": {
    "nbgrader": {
     "grade": false,
     "grade_id": "fd3-desc",
     "locked": true,
     "solution": false
    }
   },
   "source": [
    "## 3. Error plots\n",
    "\n",
    "Plot the error, defined as `abs(FD-cos(1.0))` where `FD` is your approximation, in `loglog` format and explain what you see. A good way to emphasize the result is to give the option `'-o'` to the plot command."
   ]
  },
  {
   "cell_type": "code",
   "execution_count": 11,
   "metadata": {
    "collapsed": false,
    "nbgrader": {
     "grade": true,
     "grade_id": "fd3",
     "locked": false,
     "points": 1,
     "solution": true
    }
   },
   "outputs": [
    {
     "data": {
      "text/plain": [
       "[<matplotlib.lines.Line2D at 0x106d5b610>]"
      ]
     },
     "execution_count": 11,
     "metadata": {},
     "output_type": "execute_result"
    },
    {
     "data": {
      "image/png": "[encoded data removed]",
      "text/plain": [
       "<matplotlib.figure.Figure at 0x106d31c10>"
      ]
     },
     "metadata": {},
     "output_type": "display_data"
    }
   ],
   "source": [
    "error1 = [abs(fd-cos(1.0)) for fd in fd1]\n",
    "loglog(hs1, error1, '-o')"
   ]
  },
  {
   "cell_type": "markdown",
   "metadata": {
    "nbgrader": {
     "grade": true,
     "grade_id": "fd3-comment",
     "locked": false,
     "points": 5,
     "solution": true
    }
   },
   "source": [
    "Comment"
   ]
  },
  {
   "cell_type": "markdown",
   "metadata": {
    "nbgrader": {
     "grade": false,
     "grade_id": "fd-base2-desc",
     "locked": true,
     "solution": false
    }
   },
   "source": [
    "## 4. Error plots base 2\n",
    "Repeate step 2 and 3 above, but using powers of `2` instead of powers of `10`, i.e., using `h` equal to `2**(-i)` for `i=1,...,60`. Do you see differences? How do you explain these differences? Shortly comment.  A good way to emphasize the result is to give the option `'-o'` to the plot command."
   ]
  },
  {
   "cell_type": "markdown",
   "metadata": {
    "collapsed": false,
    "nbgrader": {
     "grade": true,
     "grade_id": "fd-base2",
     "locked": false,
     "points": 1,
     "solution": true
    }
   },
   "source": [
    "## 3. Error plots\n",
    "\n",
    "Plot the error, defined as `abs(FD-cos(1.0))` where `FD` is your approximation, in `loglog` format and explain what you see. A good way to emphasize the result is to give the option `'-o'` to the plot command.hs2 = [2**(-i) for i in range(0,60)]\n",
    "fd2 = [FD(sin, 1.0, h) for h in hs2]\n",
    "error2 = [abs(fd-cos(1.0)) for fd in fd2]\n",
    "loglog(hs2, error2, 'o-')"
   ]
  },
  {
   "cell_type": "markdown",
   "metadata": {
    "nbgrader": {
     "grade": true,
     "grade_id": "fd-base2-comment",
     "locked": false,
     "points": 5,
     "solution": true
    }
   },
   "source": [
    "Comment"
   ]
  },
  {
   "cell_type": "markdown",
   "metadata": {
    "nbgrader": {
     "grade": false,
     "grade_id": "cfd-desc",
     "locked": true,
     "solution": false
    }
   },
   "source": [
    "## 5. Central Finite Differences\n",
    "Write a function that computes the central finite difference approximation (`CFD`), defined as \n",
    "\n",
    "$$\n",
    "CFD(f,x,h) := \\frac{f(x+h)-f(x-h)}{2h}\n",
    "$$\n"
   ]
  },
  {
   "cell_type": "code",
   "execution_count": 17,
   "metadata": {
    "collapsed": true,
    "nbgrader": {
     "grade": false,
     "grade_id": "cfd",
     "locked": false,
     "solution": true
    }
   },
   "outputs": [],
   "source": [
    "def CFD(f, x, h):\n",
    "    ### BEGIN SOLUTION\n",
    "    return (f(x+h)-f(x-h))/(2*h)\n",
    "    ### END SOLUTION"
   ]
  },
  {
   "cell_type": "code",
   "execution_count": 18,
   "metadata": {
    "collapsed": false,
    "nbgrader": {
     "grade": true,
     "grade_id": "cfd-check",
     "locked": true,
     "points": 1,
     "solution": false
    }
   },
   "outputs": [],
   "source": [
    "assert_equal(CFD(lambda x: x**2, 0.0, .5), 0.0)\n",
    "assert_equal(CFD(lambda x: x**2, 1.0, .5), 2.0)"
   ]
  },
  {
   "cell_type": "markdown",
   "metadata": {
    "nbgrader": {
     "grade": false,
     "grade_id": "cfd2-desc",
     "locked": true,
     "solution": false
    }
   },
   "source": [
    "## 6. Error plots for CFD\n",
    "\n",
    "Repeat steps 2., 3. and 4. and explain what you see. What is the *order* of the approximation 1. and what is the order of the approximation 5.? What's the order of the cancellation errors? "
   ]
  },
  {
   "cell_type": "code",
   "execution_count": 20,
   "metadata": {
    "collapsed": false,
    "nbgrader": {
     "grade": true,
     "grade_id": "cfd2-plots",
     "locked": false,
     "points": 2,
     "solution": true
    }
   },
   "outputs": [
    {
     "data": {
      "image/png": "[encoded data removed]",
      "text/plain": [
       "<matplotlib.figure.Figure at 0x107045cd0>"
      ]
     },
     "metadata": {},
     "output_type": "display_data"
    },
    {
     "data": {
      "text/plain": [
       "[<matplotlib.lines.Line2D at 0x106e95890>]"
      ]
     },
     "execution_count": 20,
     "metadata": {},
     "output_type": "execute_result"
    },
    {
     "data": {
      "image/png": "[encoded data removed]",
      "text/plain": [
       "<matplotlib.figure.Figure at 0x107177f50>"
      ]
     },
     "metadata": {},
     "output_type": "display_data"
    }
   ],
   "source": [
    "hs2 = array([2.**(-i) for i in range(1, 61)])\n",
    "\n",
    "\n",
    "cfd1 = [CFD(sin, 1.0, h) for h in hs1]\n",
    "cfd2 = [CFD(sin, 1.0, h) for h in hs2]\n",
    "\n",
    "error_cfd1 = [abs(fd-cos(1.0)) for fd in cfd1]\n",
    "error_cfd2 = [abs(fd-cos(1.0)) for fd in cfd2]\n",
    "\n",
    "loglog(hs1, error_cfd1, 'o-')\n",
    "show()\n",
    "loglog(hs2, error_cfd2, 'o-')"
   ]
  },
  {
   "cell_type": "markdown",
   "metadata": {
    "nbgrader": {
     "grade": true,
     "grade_id": "cfd2-plots-comment",
     "locked": false,
     "points": 5,
     "solution": true
    }
   },
   "source": []
  },
  {
   "cell_type": "markdown",
   "metadata": {
    "nbgrader": {
     "grade": false,
     "grade_id": "array-desc",
     "locked": true,
     "solution": false
    }
   },
   "source": [
    "# Numpy\n",
    "\n",
    "Numpy provides a very powerful array container. The first line of this ipython notebook has imported all of numpy functionalities in your notebook, just as if you typed::\n",
    "\n",
    "    from numpy import *\n",
    "    \n",
    "Create a numpy array whith entries that range form 0 to 64. Use the correct numpy function to do so. Call it `x`. "
   ]
  },
  {
   "cell_type": "code",
   "execution_count": 21,
   "metadata": {
    "collapsed": true,
    "nbgrader": {
     "grade": false,
     "grade_id": "array",
     "locked": false,
     "solution": true
    }
   },
   "outputs": [],
   "source": [
    "x = np.arange(0,64)"
   ]
  },
  {
   "cell_type": "code",
   "execution_count": 22,
   "metadata": {
    "collapsed": true,
    "nbgrader": {
     "grade": true,
     "grade_id": "array-check",
     "locked": true,
     "points": 1,
     "solution": false
    }
   },
   "outputs": [],
   "source": [
    "assert_equal(type(x), ndarray)\n",
    "assert_equal(len(x), 64)\n",
    "for i in xrange(64):\n",
    "    assert_equal(x[i], float(i))"
   ]
  },
  {
   "cell_type": "markdown",
   "metadata": {
    "nbgrader": {
     "grade": false,
     "grade_id": "array2-desc",
     "locked": true,
     "solution": false
    }
   },
   "source": [
    "Reshape the one dimensional array, to become a 4 rows 2 dimensional array, let numpy evaluate the correct number of culumns. Call it `y`."
   ]
  },
  {
   "cell_type": "code",
   "execution_count": 23,
   "metadata": {
    "collapsed": false,
    "nbgrader": {
     "grade": false,
     "grade_id": "array2",
     "locked": false,
     "solution": true
    }
   },
   "outputs": [],
   "source": [
    "y = x.reshape(4,-1)"
   ]
  },
  {
   "cell_type": "code",
   "execution_count": 24,
   "metadata": {
    "collapsed": false,
    "nbgrader": {
     "grade": true,
     "grade_id": "array2-check",
     "locked": true,
     "points": 1,
     "solution": false
    }
   },
   "outputs": [],
   "source": [
    "assert_equal(shape(y), (4,16))"
   ]
  },
  {
   "cell_type": "markdown",
   "metadata": {
    "nbgrader": {
     "grade": false,
     "grade_id": "array3-desc",
     "locked": true,
     "solution": false
    }
   },
   "source": [
    "Get the following *slices* of `y`:\n",
    "\n",
    "* All the rows and the first three colums. Name it `sl1`.\n",
    "* All the colums and the first three rows. Name it `sl2`.\n",
    "* Third to sixth (included) columns and all the rows. Name it `sl3`.\n",
    "* The last three columns and all the rows. Name it `sl4`."
   ]
  },
  {
   "cell_type": "code",
   "execution_count": 25,
   "metadata": {
    "collapsed": false,
    "nbgrader": {
     "grade": false,
     "grade_id": "array3",
     "locked": false,
     "points": 1,
     "solution": true
    }
   },
   "outputs": [],
   "source": [
    "sl1 = y[:,:3]\n",
    "sl2 = y[:3,:]\n",
    "sl3 = y[:,3:7]\n",
    "sl4 = y[:,-3:]"
   ]
  },
  {
   "cell_type": "code",
   "execution_count": 26,
   "metadata": {
    "collapsed": false,
    "nbgrader": {
     "grade": true,
     "grade_id": "array3-test",
     "locked": true,
     "points": 1,
     "solution": false
    }
   },
   "outputs": [],
   "source": [
    "assert_equal(sl1,[[0,1,2],[16,17,18],[32,33,34],[48,49,50]])\n",
    "assert_equal(sl2,[[0,1,2,3,4,5,6,7,8,9,10,11,12,13,14,15],[16,17,18,19,20,21,22,23,24,25,26,27,28,29,30,31],[32,33,34,35,36,37,38,39,40,41,42,43,44,45,46,47]])\n",
    "assert_equal(sl3,[[3,4,5,6],[19,20,21,22],[35,36,37,38],[51,52,53,54]])\n",
    "assert_equal(sl4,[[13,14,15],[29,30,31],[45,46,47],[61,62,63]])"
   ]
  },
  {
   "cell_type": "markdown",
   "metadata": {
    "nbgrader": {
     "grade": false,
     "grade_id": "array4-desc",
     "locked": true,
     "solution": false
    }
   },
   "source": [
    "Now reshape the array, as if you wanted to feed it to a fortran routine. Call it `z`."
   ]
  },
  {
   "cell_type": "code",
   "execution_count": 27,
   "metadata": {
    "collapsed": false,
    "nbgrader": {
     "grade": true,
     "grade_id": "array4",
     "locked": false,
     "points": 1,
     "solution": true
    }
   },
   "outputs": [],
   "source": [
    "z = x.reshape((4,-1),order='F')"
   ]
  },
  {
   "cell_type": "markdown",
   "metadata": {
    "nbgrader": {
     "grade": false,
     "grade_id": "array5-desc",
     "locked": true,
     "points": 1,
     "solution": false
    }
   },
   "source": [
    "Comment on the result, what has changed with respect to `y`? "
   ]
  },
  {
   "cell_type": "markdown",
   "metadata": {
    "nbgrader": {
     "grade": true,
     "grade_id": "array5",
     "locked": false,
     "points": 1,
     "solution": true
    }
   },
   "source": [
    "Notice that in the first case the array has been ordered row-wise, while in the second case column wise, because that's the default array ordering in fortran."
   ]
  },
  {
   "cell_type": "markdown",
   "metadata": {
    "nbgrader": {
     "grade": false,
     "grade_id": "array6-desc",
     "locked": true,
     "solution": false
    }
   },
   "source": [
    "Set the fourth element of `x` to 666666, and print `x`, `y`, `z`. Comment on the result"
   ]
  },
  {
   "cell_type": "code",
   "execution_count": 28,
   "metadata": {
    "collapsed": false,
    "nbgrader": {
     "grade": true,
     "grade_id": "array6-1",
     "locked": false,
     "points": 1,
     "solution": true
    }
   },
   "outputs": [
    {
     "name": "stdout",
     "output_type": "stream",
     "text": [
      "[     0      1      2 666666      4      5      6      7      8      9\n",
      "     10     11     12     13     14     15     16     17     18     19\n",
      "     20     21     22     23     24     25     26     27     28     29\n",
      "     30     31     32     33     34     35     36     37     38     39\n",
      "     40     41     42     43     44     45     46     47     48     49\n",
      "     50     51     52     53     54     55     56     57     58     59\n",
      "     60     61     62     63]\n",
      "[[     0      1      2 666666      4      5      6      7      8      9\n",
      "      10     11     12     13     14     15]\n",
      " [    16     17     18     19     20     21     22     23     24     25\n",
      "      26     27     28     29     30     31]\n",
      " [    32     33     34     35     36     37     38     39     40     41\n",
      "      42     43     44     45     46     47]\n",
      " [    48     49     50     51     52     53     54     55     56     57\n",
      "      58     59     60     61     62     63]]\n",
      "[[     0      4      8     12     16     20     24     28     32     36\n",
      "      40     44     48     52     56     60]\n",
      " [     1      5      9     13     17     21     25     29     33     37\n",
      "      41     45     49     53     57     61]\n",
      " [     2      6     10     14     18     22     26     30     34     38\n",
      "      42     46     50     54     58     62]\n",
      " [666666      7     11     15     19     23     27     31     35     39\n",
      "      43     47     51     55     59     63]]\n"
     ]
    }
   ],
   "source": [
    "x[3] = 666666\n",
    "print(x)\n",
    "print(y)\n",
    "print(z)"
   ]
  },
  {
   "cell_type": "markdown",
   "metadata": {
    "nbgrader": {
     "grade": true,
     "grade_id": "array6-2",
     "locked": false,
     "points": 3,
     "solution": true
    }
   },
   "source": [
    "Any variable in python, except built in types, are pointers to addresses in memory. When we assigned y=x,  z=x, we asked python to setup a pointer called y to the memory pointed by x. We did exactely the same thing when we assigned z=x. Result: x, y, and z are pointing to the same mememory. When we changed one value inside the memory of x, yand z where still poiting to the same memory. Consequence: changing one entry of x, changed the corresponding value in y and z.\n",
    "Cons: This behaviour might seem misleading, and sometimes it is. The programmer should be aware of what he is doing.\n",
    "Pros: Memory saving."
   ]
  },
  {
   "cell_type": "markdown",
   "metadata": {
    "nbgrader": {
     "grade": false,
     "grade_id": "array7-1-desc",
     "locked": true,
     "solution": false
    }
   },
   "source": [
    "## Arrays and Matrices\n",
    "\n",
    "Define 2 arrays, `A` of dimensions (2,3) and `B` of dimension (3,4).\n",
    "\n",
    "* Perform the operation `C = A.dot(B)`. Comment the result, or the error you get."
   ]
  },
  {
   "cell_type": "code",
   "execution_count": 29,
   "metadata": {
    "collapsed": false,
    "nbgrader": {
     "grade": false,
     "grade_id": "array7-0",
     "locked": false,
     "solution": true
    }
   },
   "outputs": [],
   "source": [
    "### BEGIN SOLUTION\n",
    "A = array([[1,2,3],[4,5,6]])\n",
    "B = array([[1,2,3,4],[5,6,7,8],[9,10,11,12]])\n",
    "C = A.dot(B)\n",
    "### END SOLUTION"
   ]
  },
  {
   "cell_type": "code",
   "execution_count": 30,
   "metadata": {
    "collapsed": false,
    "nbgrader": {
     "grade": true,
     "grade_id": "array7-0-test",
     "locked": true,
     "points": 1,
     "solution": false
    }
   },
   "outputs": [],
   "source": [
    "assert_equal(A.shape,(2,3))\n",
    "assert_equal(B.shape,(3,4))\n",
    "assert_equal(C.shape,(2,4))\n",
    "expected = sum(A[1,:]*B[:,2])\n",
    "assert_equal(C[1,2],expected)"
   ]
  },
  {
   "cell_type": "markdown",
   "metadata": {
    "nbgrader": {
     "grade": true,
     "grade_id": "array7-1",
     "locked": false,
     "points": 1,
     "solution": true
    }
   },
   "source": [
    "I perform the matrix-matrix multiplication between two dimensional arrays."
   ]
  },
  {
   "cell_type": "markdown",
   "metadata": {
    "nbgrader": {
     "grade": false,
     "grade_id": "array7-2-desc",
     "locked": true,
     "solution": false
    }
   },
   "source": [
    "* Perform the operation `C = A*(B)`. Comment the result, or the error you get."
   ]
  },
  {
   "cell_type": "code",
   "execution_count": 31,
   "metadata": {
    "collapsed": false
   },
   "outputs": [
    {
     "ename": "ValueError",
     "evalue": "operands could not be broadcast together with shapes (2,3) (3,4) ",
     "output_type": "error",
     "traceback": [
      "\u001b[0;31m---------------------------------------------------------------------------\u001b[0m",
      "\u001b[0;31mValueError\u001b[0m                                Traceback (most recent call last)",
      "\u001b[0;32m<ipython-input-31-6cd267b426e0>\u001b[0m in \u001b[0;36m<module>\u001b[0;34m()\u001b[0m\n\u001b[0;32m----> 1\u001b[0;31m \u001b[0mC\u001b[0m \u001b[0;34m=\u001b[0m \u001b[0mA\u001b[0m\u001b[0;34m*\u001b[0m\u001b[0mB\u001b[0m\u001b[0;34m\u001b[0m\u001b[0m\n\u001b[0m",
      "\u001b[0;31mValueError\u001b[0m: operands could not be broadcast together with shapes (2,3) (3,4) "
     ]
    }
   ],
   "source": [
    "C = A*B"
   ]
  },
  {
   "cell_type": "markdown",
   "metadata": {
    "nbgrader": {
     "grade": true,
     "grade_id": "array7-2",
     "locked": false,
     "points": 1,
     "solution": true
    }
   },
   "source": [
    " In the second I multiply element by element the two and I get an error."
   ]
  },
  {
   "cell_type": "markdown",
   "metadata": {},
   "source": [
    " * Convert A and B, from arrays to matrices and perform `A*B`. Comment the result."
   ]
  },
  {
   "cell_type": "code",
   "execution_count": 32,
   "metadata": {
    "collapsed": false,
    "nbgrader": {
     "grade": false,
     "grade_id": "array7-3",
     "locked": false,
     "points": 1,
     "solution": true
    }
   },
   "outputs": [],
   "source": [
    "### BEGIN SOLUTION\n",
    "A = asmatrix(A)\n",
    "B = asmatrix(B)\n",
    "C = A*B\n",
    "### END SOLUTION"
   ]
  },
  {
   "cell_type": "code",
   "execution_count": 33,
   "metadata": {
    "collapsed": false,
    "nbgrader": {
     "grade": true,
     "grade_id": "array7-3-test",
     "locked": true,
     "points": 1,
     "solution": false
    }
   },
   "outputs": [],
   "source": [
    "assert_equal(type(A),numpy.matrixlib.defmatrix.matrix)\n",
    "assert_equal(type(B),numpy.matrixlib.defmatrix.matrix)\n",
    "assert_equal(type(C),numpy.matrixlib.defmatrix.matrix)\n",
    "assert_equal(A.shape,(2,3))\n",
    "assert_equal(B.shape,(3,4))\n",
    "assert_equal(C.shape,(2,4))\n",
    "expected = sum(A[1,:]*B[:,2])\n",
    "assert_equal(C[1,2],expected)"
   ]
  },
  {
   "cell_type": "markdown",
   "metadata": {
    "nbgrader": {
     "grade": true,
     "grade_id": "array7-3-1",
     "locked": false,
     "points": 1,
     "solution": true
    }
   },
   "source": [
    "Perform matrix matrix multiplication."
   ]
  },
  {
   "cell_type": "markdown",
   "metadata": {
    "nbgrader": {
     "grade": false,
     "grade_id": "polynomials-desc",
     "locked": true,
     "solution": false
    }
   },
   "source": [
    "# Playing with polynomials\n",
    "\n",
    "The polynomial `(1-x)^6` can be expanded to::\n",
    "     \n",
    "     x^6 - 6*x^5 + 15*x^4 - 20*x^3 + 15*x^2 - 6*x + 1\n",
    "\n",
    "   The two forms above are equivalent from a mathematical point of\n",
    "   view, but may yield different results in a computer machine.\n",
    "\n",
    "   Compute and plot the values of this polynomial, using each of the\n",
    "   two forms, for 101 equally spaced points in the interval\n",
    "   `[0.995,1.005]`, i.e., with a spacing of 0.0001 (use linspace).\n",
    "   \n",
    "   Can you explain this behavior?\n"
   ]
  },
  {
   "cell_type": "code",
   "execution_count": 34,
   "metadata": {
    "collapsed": false,
    "nbgrader": {
     "grade": true,
     "grade_id": "polynomials-1",
     "locked": false,
     "points": 2,
     "solution": true
    },
    "scrolled": true
   },
   "outputs": [
    {
     "data": {
      "image/png": "[encoded data removed]",
      "text/plain": [
       "<matplotlib.figure.Figure at 0x106ea8850>"
      ]
     },
     "metadata": {},
     "output_type": "display_data"
    },
    {
     "data": {
      "text/plain": [
       "[<matplotlib.lines.Line2D at 0x1071b42d0>]"
      ]
     },
     "execution_count": 34,
     "metadata": {},
     "output_type": "execute_result"
    },
    {
     "data": {
      "image/png": "[encoded data removed]",
      "text/plain": [
       "<matplotlib.figure.Figure at 0x10719b9d0>"
      ]
     },
     "metadata": {},
     "output_type": "display_data"
    }
   ],
   "source": [
    "x = linspace(0.995, 1.005, 101)\n",
    "p1 = x**6 - 6*x**5 + 15*x**4 - 20*x**3 + 15*x**2 - 6*x + 1\n",
    "p2 = (1-x)**6\n",
    "\n",
    "plot(x, p1)\n",
    "show()\n",
    "plot(x,p2)"
   ]
  },
  {
   "cell_type": "markdown",
   "metadata": {
    "nbgrader": {
     "grade": true,
     "grade_id": "polynomials-2",
     "locked": false,
     "points": 1,
     "solution": true
    }
   },
   "source": [
    "We see cancellation errors at its maximum power. We are summing numbers which are very close to each other, with opposite signs, when computing using the first method."
   ]
  },
  {
   "cell_type": "markdown",
   "metadata": {
    "nbgrader": {
     "grade": false,
     "grade_id": "lagrange-desc",
     "locked": true,
     "solution": false
    }
   },
   "source": [
    "**Playing with interpolation in python**\n",
    "\n",
    "1. Given a set of $n+1$ points $x_i$ as input (either a list of floats, or a numpy array of floats), construct a function `lagrange_basis(xi,i,x)` that returns the $i$-th Lagrange\n",
    "polynomial associated to $x_i$, evaluated at $x$. The $i$-th Lagrange polynomial is defined as polynomial of degree $n$ such that $l_i(x_j) = \\delta_{ij}$, where $\\delta$ is one if $i == j$ and zero otherwise.\n",
    "   \n",
    "Recall the mathematical definition of the $l_i(x)$ polynomials:\n",
    "\n",
    "$$\n",
    "l_i(x) := \\prod_{j=0, j\\neq i}^{n} \\frac{x-x_j}{x_i-x_j}\n",
    "$$\n"
   ]
  },
  {
   "cell_type": "code",
   "execution_count": 35,
   "metadata": {
    "collapsed": false,
    "nbgrader": {
     "grade": false,
     "grade_id": "lagrange",
     "locked": false,
     "solution": true
    }
   },
   "outputs": [],
   "source": [
    "def lagrange_basis(xi, i, x):\n",
    "    ### BEGIN SOLUTION\n",
    "    assert i<len(xi) and i>=0, 'Out of range: 0 < i < len(xi)'\n",
    "    ret = 1;\n",
    "    for xj in xi[range(i)+range(i+1,len(xi))]:\n",
    "        ret *= (x-xj)/(xi[i]-xj)\n",
    "    return ret\n",
    "    ### END SOLUTION"
   ]
  },
  {
   "cell_type": "code",
   "execution_count": 36,
   "metadata": {
    "collapsed": false,
    "nbgrader": {
     "grade": true,
     "grade_id": "lagrange-check",
     "locked": true,
     "points": 4,
     "solution": false
    }
   },
   "outputs": [],
   "source": [
    "x = linspace(0,1,5)\n",
    "d = 3\n",
    "xi = linspace(0,1,d)\n",
    "\n",
    "assert_equal(list(lagrange_basis(xi, 0, x)),[1.0, 0.375, -0.0, -0.125, 0.0])\n",
    "assert_equal(list(lagrange_basis(xi, 1, x)),[0.0, 0.75, 1.0, 0.75, -0.0])\n",
    "assert_equal(list(lagrange_basis(xi, 2, x)),[-0.0, -0.125, 0.0, 0.375, 1.0])\n",
    "\n",
    "assert_raises(AssertionError, lagrange_basis, xi, -1, x)\n",
    "assert_raises(AssertionError, lagrange_basis, xi, 10, x)"
   ]
  },
  {
   "cell_type": "markdown",
   "metadata": {
    "nbgrader": {
     "grade": false,
     "grade_id": "lagrange2-desc",
     "locked": true,
     "solution": false
    }
   },
   "source": [
    "Construct the function `lagrange_interpolation(xi,g)` that, given the set of interpolation points `xi` and a function `g`, it returns **another function** that when evaluated at **x** returns the Lagrange interpolation polynomial of `g` defined as \n",
    "\n",
    "$$\n",
    " \\mathcal{L} g(x) := \\sum_{i=0}^n g(x_i) l_i(x)\n",
    "$$\n",
    "\n",
    "You could use this function as follows::\n",
    "\n",
    "    Lg = lagrange_interpolation(xi, g)\n",
    "    xi = linspace(0,1,101)\n",
    "    plot(x, g(x))\n",
    "    plot(x, Lg(x))\n",
    "    plot(xi, g(xi), 'or')"
   ]
  },
  {
   "cell_type": "code",
   "execution_count": 37,
   "metadata": {
    "collapsed": true,
    "nbgrader": {
     "grade": false,
     "grade_id": "lagrange2",
     "locked": false,
     "solution": true
    }
   },
   "outputs": [],
   "source": [
    "def lagrange_interpolation(xi,f):\n",
    "    ### BEGIN SOLUTION\n",
    "    def lagrange(xi,f,x): \n",
    "        r = 0;\n",
    "        for i in xrange(len(xi)):\n",
    "            r += lagrange_basis(xi,i,x)*f(xi[i])\n",
    "        return r\n",
    "    return lambda x: lagrange(xi,f,x)\n",
    "    ### END SOLUTION"
   ]
  },
  {
   "cell_type": "code",
   "execution_count": 38,
   "metadata": {
    "collapsed": false,
    "nbgrader": {
     "grade": true,
     "grade_id": "lagrange2-check",
     "locked": true,
     "points": 4,
     "solution": false
    }
   },
   "outputs": [],
   "source": [
    "# Check for polynomials. This should be **exact**\n",
    "g = lambda x: x**3+x**2\n",
    "\n",
    "xi = linspace(0,1,4)\n",
    "Lg = lagrange_interpolation(xi, g)\n",
    "\n",
    "x = linspace(0,1,1001)\n",
    "\n",
    "assert p_norm(g(x) - Lg(x),float('inf')) < 1e-15, 'This should be zero...'"
   ]
  },
  {
   "cell_type": "code",
   "execution_count": null,
   "metadata": {
    "collapsed": true
   },
   "outputs": [],
   "source": []
  }
 ],
 "metadata": {
  "celltoolbar": "Create Assignment",
  "kernelspec": {
   "display_name": "Python 2",
   "language": "python",
   "name": "python2"
  },
  "language_info": {
   "codemirror_mode": {
    "name": "ipython",
    "version": 2
   },
   "file_extension": ".py",
   "mimetype": "text/x-python",
   "name": "python",
   "nbconvert_exporter": "python",
   "pygments_lexer": "ipython2",
   "version": "2.7.10"
  }
 },
 "nbformat": 4,
 "nbformat_minor": 0
}
