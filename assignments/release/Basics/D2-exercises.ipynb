{
 "cells": [
  {
   "cell_type": "markdown",
   "metadata": {},
   "source": [
    "# Lambda Function\n",
    "\n",
    "Construct and plot the lambda function, defined as:\n",
    "$$\n",
    "\\Lambda(q,x) := \\sum_{i=0}^{n} |l_i(x)| \n",
    "$$"
   ]
  },
  {
   "cell_type": "code",
   "execution_count": null,
   "metadata": {
    "collapsed": false
   },
   "outputs": [],
   "source": [
    "# This is used for plots and numpy\n",
    "%pylab inline "
   ]
  },
  {
   "cell_type": "code",
   "execution_count": null,
   "metadata": {
    "collapsed": true
   },
   "outputs": [],
   "source": [
    "def lagrange_basis(xi, i):  \n",
    "    def func(x):\n",
    "        assert i<len(xi) and i>=0, 'Out of range: 0 < i < len(xi)'\n",
    "        ret = 1;\n",
    "        for j in range(len(xi)):\n",
    "            if j != i:\n",
    "                ret *= (x-xi[j])/(xi[i]-xi[j])\n",
    "        return ret\n",
    "    return func"
   ]
  },
  {
   "cell_type": "markdown",
   "metadata": {},
   "source": [
    "Test your implementation, plotting $l_i(x)$ for five equally spaced points."
   ]
  },
  {
   "cell_type": "code",
   "execution_count": null,
   "metadata": {
    "collapsed": false
   },
   "outputs": [],
   "source": [
    "xi = np.linspace(0,1,5)\n",
    "x  = np.linspace(0,1,1000)\n",
    "_ = [plt.plot(x,lagrange_basis(xi,i)(x)) for i in range(5)]"
   ]
  },
  {
   "cell_type": "code",
   "execution_count": null,
   "metadata": {
    "collapsed": false
   },
   "outputs": [],
   "source": [
    "xi = np.linspace(0,1,5)\n",
    "x  = np.linspace(0,1,1000)\n",
    "_ = [plt.plot(x,lagrange_basis(xi,i)(x)) for i in range(5)]"
   ]
  },
  {
   "cell_type": "code",
   "execution_count": null,
   "metadata": {
    "collapsed": false,
    "deletable": false,
    "nbgrader": {
     "checksum": "1053dfd05e7e095d35e12217ccb561cd",
     "grade": true,
     "grade_id": "lagrange_basis",
     "locked": false,
     "points": 2,
     "solution": true
    }
   },
   "outputs": [],
   "source": [
    "def lambda_function(q):\n",
    "    def func(x):\n",
    "        ret = 0;\n",
    "        for i in range(len(q)):\n",
    "            ret = ret + abs(lagrange_basis(q, i)(x))\n",
    "        return ret\n",
    "    return func"
   ]
  },
  {
   "cell_type": "code",
   "execution_count": null,
   "metadata": {
    "collapsed": false,
    "deletable": false,
    "nbgrader": {
     "checksum": "59a6a8f7a7e2374ec3375f33087e6cc2",
     "grade": false,
     "grade_id": "lambda_func_0",
     "locked": false,
     "solution": true
    }
   },
   "outputs": [],
   "source": []
  },
  {
   "cell_type": "code",
   "execution_count": null,
   "metadata": {
    "collapsed": false,
    "deletable": false,
    "nbgrader": {
     "checksum": "552d90bda8a71cb0cebca615f69f986b",
     "grade": true,
     "grade_id": "lambda_func_0_test",
     "locked": true,
     "points": 2,
     "solution": false
    }
   },
   "outputs": [],
   "source": [
    "from numpy.testing import *\n",
    "\n",
    "assert_equal(lambda_function(linspace(0,1,3))(.25),1.25)\n",
    "assert_almost_equal(lambda_function(linspace(0,1,5))(.3),1.2464,decimal=8)"
   ]
  },
  {
   "cell_type": "markdown",
   "metadata": {},
   "source": [
    "Plot $\\Lambda(q)(x)$ for equispaced nodes on the interval $[0,1]$ for 3, 5, and 7 equispaced nodes respectively. Comment the result."
   ]
  },
  {
   "cell_type": "code",
   "execution_count": null,
   "metadata": {
    "collapsed": false,
    "deletable": false,
    "nbgrader": {
     "checksum": "0eb684ad0cd5a4f16aa7a8f252063089",
     "grade": true,
     "grade_id": "lambda_func_1_0",
     "locked": false,
     "points": 2,
     "solution": true
    }
   },
   "outputs": [],
   "source": [
    "for nnodes in [3,5,7]:\n",
    "    q = np.linspace(0,1,nnodes)\n",
    "    x  = np.linspace(0,1,1000)\n",
    "    _ = plt.plot(x,lambda_function(q)(x),label=str(nnodes)+' nodes')\n",
    "    _ = plt.legend(loc=0)"
   ]
  },
  {
   "cell_type": "markdown",
   "metadata": {
    "deletable": false,
    "nbgrader": {
     "checksum": "0a4802e302707e6a47d6bec8297fab03",
     "grade": true,
     "grade_id": "lambda_func_1_1",
     "locked": false,
     "points": 2,
     "solution": true
    }
   },
   "source": [
    "YOUR ANSWER HERE"
   ]
  },
  {
   "cell_type": "markdown",
   "metadata": {
    "collapsed": true
   },
   "source": [
    "## Chebyshev Nodes\n",
    "\n",
    "Chebyshev nodes are defined as:\n",
    "$$\n",
    "x_k = cos\\left(\\frac{2k-1}{2n} \\pi \\right), k = 1,\\ldots,n.\n",
    "$$\n",
    "Write a function to evaluate then for a given $n$.\n"
   ]
  },
  {
   "cell_type": "code",
   "execution_count": null,
   "metadata": {
    "collapsed": false,
    "deletable": false,
    "nbgrader": {
     "checksum": "0e14f4e5a134542e50892a82e6d41314",
     "grade": false,
     "grade_id": "chebyshev_nodes_0",
     "locked": false,
     "solution": true
    }
   },
   "outputs": [],
   "source": [
    "chebyshev_nodes = lambda n: [ np.cos((2.0*k-1.0)/(2.0*n)*np.pi) for k in range(1,n+1) ]"
   ]
  },
  {
   "cell_type": "code",
   "execution_count": null,
   "metadata": {
    "collapsed": true,
    "deletable": false,
    "nbgrader": {
     "checksum": "d2ed40dfca6f48840016accabddf5e89",
     "grade": true,
     "grade_id": "chebyshev_nodes_0_test",
     "locked": true,
     "points": 2,
     "solution": false
    }
   },
   "outputs": [],
   "source": [
    "assert_almost_equal(chebyshev_nodes(5),[  9.51056516e-01, 5.87785252e-01,   6.12323400e-17,  -5.87785252e-01,\n",
    "  -9.51056516e-01],decimal=8)\n",
    "assert_almost_equal(chebyshev_nodes(7),[  9.74927912e-01,   7.81831482e-01,   4.33883739e-01,   6.12323400e-17,\n",
    "  -4.33883739e-01,  -7.81831482e-01,  -9.74927912e-01],decimal=8)\n"
   ]
  },
  {
   "cell_type": "markdown",
   "metadata": {},
   "source": [
    "Plot the location of chebyshev nodes on the unit circle, and on the orizontal axis.\n",
    "\n",
    " - plot the positive sector of a cirumference with center $0$ and radius $1$.\n",
    " - plot the location of chebicev points on the cirumference, suggested plot option is `'*'`.\n",
    " - plot projection lines from the circle center to chebyshev nodes projected on the circumference.\n",
    " - plot projection lines from chebyshev nodes projected on the circumference to chebyshev nodes on the horizontal axis.\n",
    " - plot chebyshev nodes, suggested plot option is `'o'`.\n",
    " - make sure the axis are such that the resulting plot is truly a circle..."
   ]
  },
  {
   "cell_type": "code",
   "execution_count": null,
   "metadata": {
    "collapsed": false,
    "deletable": false,
    "nbgrader": {
     "checksum": "46deeb7b1a436e4ed3ade42c75f62358",
     "grade": true,
     "grade_id": "chebyshev_nodes_1",
     "locked": false,
     "points": 2,
     "solution": true
    }
   },
   "outputs": [],
   "source": [
    "def node_projection(n):\n",
    "    x_nodes = chebyshev_nodes(n)\n",
    "    y_nodes = circ(np.array(x_nodes))\n",
    "    _ = plt.plot(x_nodes,y_nodes,'*b')\n",
    "    _ = []\n",
    "    for i in range(n):\n",
    "        _ = plt.plot([0,x_nodes[i]],[0,y_nodes[i]],'g-')\n",
    "        _ = plt.plot([x_nodes[i]]*2,[0,y_nodes[i]],'g-')\n",
    "    _ = plt.plot(x_nodes,y_nodes*0,'o')\n",
    "    _ = plt.title(\"Chebyshev Nodes for n = \"+str(n))\n",
    "\n",
    "x = np.linspace(-1,1,1000)\n",
    "circ = lambda x: np.sqrt(1-x**2)\n",
    "\n",
    "_ = node_projection(10)\n",
    "_ = plt.plot(x,circ(x),'b')\n",
    "_ = plt.plot(x,x*0,'k')\n",
    "_ = plt.axes().set_aspect('equal', 'datalim')\n",
    "# _ = plt.axis('off')\n",
    "_ = plt.grid(True)"
   ]
  },
  {
   "cell_type": "markdown",
   "metadata": {},
   "source": [
    "Plot $\\Lambda(q)(x)$ for chebyshev nodes on the interval $[x_0,x_n]$ for 3, 5, and 7 nodes respectively. Comment the result."
   ]
  },
  {
   "cell_type": "code",
   "execution_count": null,
   "metadata": {
    "collapsed": false,
    "deletable": false,
    "nbgrader": {
     "checksum": "2e1e876009df56fb70d2f035b6941e33",
     "grade": true,
     "grade_id": "labda_on_cnodes_1",
     "locked": false,
     "points": 2,
     "solution": true
    },
    "scrolled": true
   },
   "outputs": [],
   "source": [
    "for nnodes in [3,5,7]:\n",
    "    q = chebyshev_nodes(nnodes)\n",
    "    x  = np.linspace(q[0],q[-1],1000)\n",
    "    _ = plt.plot(x,lambda_function(q)(x),label=str(nnodes)+' nodes')\n",
    "    _ = plt.legend(loc=0)\n",
    "    _ = plt.grid(True)"
   ]
  },
  {
   "cell_type": "markdown",
   "metadata": {
    "deletable": false,
    "nbgrader": {
     "checksum": "3ec9fae9b68fd5d5398fc5bc157481be",
     "grade": true,
     "grade_id": "labda_on_cnodes_2",
     "locked": false,
     "points": 2,
     "solution": true
    }
   },
   "source": [
    "YOUR ANSWER HERE"
   ]
  },
  {
   "cell_type": "markdown",
   "metadata": {},
   "source": [
    "Define a function `function_norm` that returns $||f(x)||\\infty$ with $x\\in[a,b]$ (default to $[0,1]$). To keep the implementation simple, evaluate the given function over $2^n+1$ points and return the maximum value. Any smarter and correct implementation is welcome. $n$ should be selectable at run time, and it should be by default equal to 20 (rhoughly a million points)"
   ]
  },
  {
   "cell_type": "code",
   "execution_count": null,
   "metadata": {
    "collapsed": false,
    "deletable": false,
    "nbgrader": {
     "checksum": "384f4c0f71e4f608debf758d16972501",
     "grade": false,
     "grade_id": "infty_norm_0",
     "locked": false,
     "solution": true
    }
   },
   "outputs": [],
   "source": [
    "def function_norm(f,a=0,b=1,n=20):\n",
    "    x = np.linspace(a,b,2**n+1)\n",
    "    return np.max(f(x))\n",
    "\n",
    "function_norm(np.sin,b=20)"
   ]
  },
  {
   "cell_type": "code",
   "execution_count": null,
   "metadata": {
    "collapsed": false,
    "deletable": false,
    "nbgrader": {
     "checksum": "0a2e7a34bc32e08775c9b55eda7d8304",
     "grade": true,
     "grade_id": "infty_norm_0_test",
     "locked": true,
     "points": 2,
     "solution": false
    }
   },
   "outputs": [],
   "source": [
    "print( lambda_function(linspace(0,1,7))(.2))\n",
    "print( lambda_function(linspace(0,1,7))(linspace(0,1,2**2+1)))\n",
    "assert_almost_equal(function_norm(lambda_function(linspace(0,1,7)),0,1,10),4.54922445348, decimal=5)\n",
    "assert_almost_equal(function_norm(lambda_function(linspace(0,1,5)),0,1,10),2.20780651848, decimal=5)\n",
    "\n",
    "xi = chebyshev_nodes(7)\n",
    "assert_almost_equal(function_norm(lambda_function(xi),xi[0],xi[-1]),1.78252988655, decimal=5)\n",
    "\n",
    "xi = chebyshev_nodes(5)\n",
    "assert_almost_equal(function_norm(lambda_function(xi),xi[0],xi[-1]),1.57016748842, decimal=5)"
   ]
  },
  {
   "cell_type": "markdown",
   "metadata": {},
   "source": [
    "Evaluate the $||\\Lambda(q)||_{\\infty}$ for degree from 1 to 7, for equispaced points, and for chebyshev nodes. Store the corresponding values in two different arrays `norm_l_eq`, and `norm_l_ch`."
   ]
  },
  {
   "cell_type": "code",
   "execution_count": null,
   "metadata": {
    "collapsed": false,
    "deletable": false,
    "nbgrader": {
     "checksum": "a65e1c647f18fdf6ea606a1bfb88b943",
     "grade": false,
     "grade_id": "infty_norm_1",
     "locked": false,
     "points": 2,
     "solution": true
    }
   },
   "outputs": [],
   "source": [
    "norm_l_eq = [ function_norm(lambda_function(q)) for q in [ np.linspace(0,1,nnodes) for nnodes in range(1,8) ] ]\n",
    "norm_l_ch = [ function_norm(lambda_function(q),q[0],q[-1]) for q in [ chebyshev_nodes(nnodes) for nnodes in range(1,8) ] ]"
   ]
  },
  {
   "cell_type": "code",
   "execution_count": null,
   "metadata": {
    "collapsed": false,
    "deletable": false,
    "nbgrader": {
     "checksum": "bbdbdf3f4cd82a39fe4b3d0961a27f4c",
     "grade": true,
     "grade_id": "infty_norm_1_test",
     "locked": true,
     "points": 2,
     "solution": false
    }
   },
   "outputs": [],
   "source": [
    "assert_almost_equal(norm_l_eq,[1.,1.,1.25,1.63113031,2.2078244,3.10630116,4.54934179], decimal=5)\n",
    "assert_almost_equal(norm_l_ch,[1.,1.,1.25,1.42987272,1.57016749,1.68514046,1.78252989], decimal=5)"
   ]
  },
  {
   "cell_type": "markdown",
   "metadata": {
    "collapsed": true,
    "nbgrader": {
     "grade": false,
     "locked": false,
     "solution": false
    }
   },
   "source": [
    "Plot the $||\\Lambda(q,x)||_{\\infty}$ for degree from 1 to 7, for equispaced points, and for chebyshev nodes."
   ]
  },
  {
   "cell_type": "code",
   "execution_count": null,
   "metadata": {
    "collapsed": false,
    "deletable": false,
    "nbgrader": {
     "checksum": "5b0adb654a98fcca8277ab4afbf2a19e",
     "grade": true,
     "grade_id": "infty_norm_2",
     "locked": false,
     "points": 2,
     "solution": true
    }
   },
   "outputs": [],
   "source": [
    "nnodes = range(1,8)\n",
    "_ = plt.plot(nnodes,norm_l_eq,'o-',label='Equispaced Points')\n",
    "_ = plt.plot(nnodes,norm_l_ch,'o-',label='Chebyshev Nodes')\n",
    "_ = plt.legend(loc=0)"
   ]
  },
  {
   "cell_type": "markdown",
   "metadata": {},
   "source": [
    "# Bernstein Basis\n",
    "Write a function that returns the ith Bernstein Basis of order $n$, using the standard definition: \n",
    "$$\n",
    "B_{i,n}(t) = \\binom{n}{i} t^i(1-t)^{n-i}\n",
    "$$"
   ]
  },
  {
   "cell_type": "code",
   "execution_count": null,
   "metadata": {
    "collapsed": false,
    "deletable": false,
    "nbgrader": {
     "checksum": "0316d3318260e3234465d40d34bcd05a",
     "grade": false,
     "grade_id": "bern_0",
     "locked": false,
     "solution": true
    }
   },
   "outputs": [],
   "source": [
    "from scipy.misc import comb\n",
    "bernstein_polynomial = lambda n,i: lambda t: comb(n,i)*(t**i)*(1-t)**(n-i)"
   ]
  },
  {
   "cell_type": "markdown",
   "metadata": {
    "collapsed": false,
    "deletable": false,
    "nbgrader": {
     "checksum": "da2cd19f702735f87ec93c7bf5925197",
     "grade": true,
     "grade_id": "bern_plot",
     "locked": false,
     "points": 2,
     "solution": true
    }
   },
   "source": [
    " "
   ]
  },
  {
   "cell_type": "code",
   "execution_count": null,
   "metadata": {
    "collapsed": false,
    "deletable": false,
    "nbgrader": {
     "checksum": "fa48f601e46ef874a258160eed46696c",
     "grade": true,
     "grade_id": "bern_0_test",
     "locked": true,
     "points": 2,
     "solution": false
    }
   },
   "outputs": [],
   "source": [
    "expected = [[0.48999999999999994, 0.42, 0.09], [0.3429999999999999, 0.4409999999999999, 0.189, 0.026999999999999996], [0.24009999999999995, 0.4115999999999999, 0.2646, 0.07559999999999999, 0.0081], [0.16806999999999994, 0.3601499999999999, 0.3086999999999999, 0.13229999999999997, 0.028349999999999993, 0.0024299999999999994]]\n",
    "\n",
    "for n in range(2,3):\n",
    "    for i in range(0,n+1):\n",
    "        b = bernstein_polynomial(n,i)\n",
    "        assert_almost_equal(b(.3),expected[n-2][i],decimal=8)"
   ]
  },
  {
   "cell_type": "markdown",
   "metadata": {},
   "source": [
    "Implement the recursive definition of the bernstein polynomial:\n",
    "$$\n",
    "B_{k,n}(t) = (1-t)\\cdot B_{k,n-1}(t)+t\\cdot B_{k-1,n-1}(t)\n",
    "$$\n",
    "\n",
    " - if $k < 0\\ \\mathrm{or}\\ i > n$ then $B_{k,n} = 0$. \n",
    " - if $k = 0\\ \\mathrm{and}\\ n =0$ then $B_{k,n} = 1$. "
   ]
  },
  {
   "cell_type": "code",
   "execution_count": null,
   "metadata": {
    "collapsed": false,
    "deletable": false,
    "nbgrader": {
     "checksum": "eab8d5ce2e8026f2586d4b4ae13410c6",
     "grade": false,
     "grade_id": "bern_1",
     "locked": false,
     "solution": true
    }
   },
   "outputs": [],
   "source": [
    "bernstein_recursive = lambda n,k: lambda t: 0 if (k<0 or k>n) else 1 if (k==0 and n==0) else \\\n",
    "                                        (1-t) * bernstein_recursive(n-1,k)(t) + t*bernstein_recursive(n-1,k-1)(t)"
   ]
  },
  {
   "cell_type": "code",
   "execution_count": null,
   "metadata": {
    "collapsed": false,
    "deletable": false,
    "nbgrader": {
     "checksum": "839935626b22fea1ca1b375a9f7ff7e5",
     "grade": true,
     "grade_id": "bern_1_test",
     "locked": true,
     "points": 2,
     "solution": false
    }
   },
   "outputs": [],
   "source": [
    "expected = [[0.48999999999999994, 0.42, 0.09], [0.3429999999999999, 0.4409999999999999, 0.189, 0.026999999999999996], [0.24009999999999995, 0.4115999999999999, 0.2646, 0.07559999999999999, 0.0081], [0.16806999999999994, 0.3601499999999999, 0.3086999999999999, 0.13229999999999997, 0.028349999999999993, 0.0024299999999999994]]\n",
    "\n",
    "for n in range(2,3):\n",
    "    for i in range(0,n+1):\n",
    "        b = bernstein_recursive(n,i)\n",
    "        assert_almost_equal(b(.3),expected[n-2][i],decimal=8)"
   ]
  },
  {
   "cell_type": "markdown",
   "metadata": {},
   "source": [
    "Implement power basis formula:\n",
    "$$\n",
    "B_{k,n}(t) = \\sum_{i=k}^n(-1)^{i-k}\\binom{n}{i}\\binom{i}{k}t^i\n",
    "$$"
   ]
  },
  {
   "cell_type": "code",
   "execution_count": null,
   "metadata": {
    "collapsed": true,
    "deletable": false,
    "nbgrader": {
     "checksum": "68f43e334e4e6c6cf568a20a215678a8",
     "grade": false,
     "grade_id": "bern_2",
     "locked": false,
     "solution": true
    }
   },
   "outputs": [],
   "source": [
    "from scipy.misc import comb\n",
    "bernstein_power_basis = lambda n,k: lambda t: sum([ (-1)**(i-k)*comb(n,i)*comb(i,k)*t**i for i in range(k,n+1)])"
   ]
  },
  {
   "cell_type": "code",
   "execution_count": null,
   "metadata": {
    "collapsed": false,
    "deletable": false,
    "nbgrader": {
     "checksum": "465fa86a0d08b541ef570bd9d925d779",
     "grade": true,
     "grade_id": "bern_2_test",
     "locked": true,
     "points": 2,
     "solution": false
    }
   },
   "outputs": [],
   "source": [
    "expected = [[0.48999999999999994, 0.42, 0.09], [0.3429999999999999, 0.4409999999999999, 0.189, 0.026999999999999996], [0.24009999999999995, 0.4115999999999999, 0.2646, 0.07559999999999999, 0.0081], [0.16806999999999994, 0.3601499999999999, 0.3086999999999999, 0.13229999999999997, 0.028349999999999993, 0.0024299999999999994]]\n",
    "\n",
    "for n in range(2,3):\n",
    "    for i in range(0,n+1):\n",
    "        b = bernstein_power_basis(n,i)\n",
    "        assert_almost_equal(b(.3),expected[n-2][i],decimal=8)"
   ]
  },
  {
   "cell_type": "markdown",
   "metadata": {},
   "source": [
    "Plot all basis obtained through the \"definition\" implementation and through the \"power basis\" implementation for n=20,40,80,100. Give an explanation for what you observe."
   ]
  },
  {
   "cell_type": "code",
   "execution_count": null,
   "metadata": {
    "collapsed": false,
    "deletable": false,
    "nbgrader": {
     "checksum": "831aa578cae16e203b52013eba27b927",
     "grade": true,
     "grade_id": "bern_3",
     "locked": false,
     "points": 2,
     "solution": true
    }
   },
   "outputs": [],
   "source": [
    "x = np.linspace(0,1,1000)\n",
    "_ = [[plt.plot(x,bernstein_polynomial(n,k)(x),label=r'$B_{'+str(n)+','+str(k)+'}$') for k in [int(n/4),int(n/2),int(n*3/4)]] for n in [20,40,80,100]]\n",
    "# _ = [[plt.plot(x,bernstein_recursive(n,k)(x),label=r'$B_{'+str(n)+','+str(k)+'}$') for k in [int(n/4),int(n/2),int(n*3/4)]] for n in [20,40,80,100]]\n",
    "# _ = [[plt.plot(x,[bernstein_power_basis(n,k)(xi) for xi in x],label=r'$B_{'+str(n)+','+str(k)+'}$') for k in [int(n/4),int(n/2),int(n*3/4)]] for n in [20,40,80,100]]\n",
    "# _ = plt.legend(loc=0)"
   ]
  },
  {
   "cell_type": "markdown",
   "metadata": {
    "deletable": false,
    "nbgrader": {
     "checksum": "f043396f04955a4dcaf82f4057125976",
     "grade": true,
     "grade_id": "bern_3_bis",
     "locked": false,
     "points": 2,
     "solution": true
    }
   },
   "source": [
    "YOUR ANSWER HERE"
   ]
  },
  {
   "cell_type": "markdown",
   "metadata": {},
   "source": [
    "Given the basis functions above, construct the Bernstein approximation of a continuous function, defined as:\n",
    "$$\n",
    "B_n(f)(t) := \\sum_{i=0}^{n} B_{i,n} (t) * f(i/n) \n",
    "$$"
   ]
  },
  {
   "cell_type": "code",
   "execution_count": null,
   "metadata": {
    "collapsed": false,
    "deletable": false,
    "nbgrader": {
     "checksum": "e02d9e63aabc03c8a45a3fa12f01a42d",
     "grade": false,
     "grade_id": "bern_func",
     "locked": false,
     "solution": true
    }
   },
   "outputs": [],
   "source": [
    "bernstein_interpolation = lambda n,f: lambda t: np.array([ bernstein_polynomial(n,i)(t) * f(i/n) \n",
    "                                                          for i in range(n+1)]).sum(axis=0)"
   ]
  },
  {
   "cell_type": "code",
   "execution_count": null,
   "metadata": {
    "collapsed": false,
    "deletable": false,
    "nbgrader": {
     "checksum": "8d2cb53b2c64ff571d6f80e2798f8170",
     "grade": true,
     "grade_id": "bern_func_test",
     "locked": true,
     "points": 2,
     "solution": false
    }
   },
   "outputs": [],
   "source": [
    "func = lambda t : sin(2*pi*t)\n",
    "bi = bernstein_interpolation(3,func)\n",
    "expected = [  0.00000000e+00,1.92450090e-01,-1.92450090e-01,-2.44929360e-16]\n",
    "assert_almost_equal(bi(linspace(0,1,4)),expected,decimal=8)\n",
    "bi = bernstein_interpolation(15,func)\n",
    "expected = [  0.00000000e+00,6.50601790e-01,-6.50601790e-01,-2.44929360e-16]\n",
    "assert_almost_equal(bi(linspace(0,1,4)),expected,decimal=8)"
   ]
  },
  {
   "cell_type": "markdown",
   "metadata": {},
   "source": [
    "Test your implementation, plotting the bernstein interpolation of $\\sin(2\\pi x)$ for different degrees:"
   ]
  },
  {
   "cell_type": "code",
   "execution_count": null,
   "metadata": {
    "collapsed": false,
    "deletable": false,
    "nbgrader": {
     "checksum": "fb16a3d1de68b9ed56d28a10598bd62f",
     "grade": true,
     "grade_id": "bernstein_interpolation_0",
     "locked": false,
     "points": 2,
     "solution": true
    }
   },
   "outputs": [],
   "source": [
    "x = linspace(0,1,1000)\n",
    "_ =[plt.plot(x,bernstein_interpolation(n, func)(x),label=n) for n in 2**arange(3,8)]\n",
    "# plot(x,y)\n",
    "_ = plt.plot(x,func(x),'--k',label='actual')\n",
    "_ = plt.legend(loc=0)\n"
   ]
  },
  {
   "cell_type": "markdown",
   "metadata": {},
   "source": [
    "Given tolerance `tol` for the the function `func`, find the order $n$ that satisfies $\\mathtt{tol}<||f(x)||_\\infty$. Use the `function_norm` previously implemented."
   ]
  },
  {
   "cell_type": "code",
   "execution_count": null,
   "metadata": {
    "collapsed": false,
    "deletable": false,
    "nbgrader": {
     "checksum": "740710986ce6a1e1fcb3be8aa8d1d380",
     "grade": false,
     "grade_id": "order_tol",
     "locked": false,
     "solution": true
    }
   },
   "outputs": [],
   "source": [
    "def find_order_given_tolerance(func,tol):\n",
    "    flag = True\n",
    "    n = 1\n",
    "    while flag:\n",
    "        test = function_norm(bernstein_interpolation(n, func))\n",
    "        print(n,test)\n",
    "        if tol < test:\n",
    "            flag = False\n",
    "        else:\n",
    "            n += 1\n",
    "    \n",
    "    return n"
   ]
  },
  {
   "cell_type": "code",
   "execution_count": null,
   "metadata": {
    "collapsed": false,
    "deletable": false,
    "nbgrader": {
     "checksum": "dc8f31ad8e9b032c84e24a8d314647c4",
     "grade": true,
     "grade_id": "order_tol_test",
     "locked": true,
     "points": 2,
     "solution": false
    }
   },
   "outputs": [],
   "source": [
    "func = lambda t : sin(2*pi*t)\n",
    "assert_equal(find_order_given_tolerance(func,.05),77)\n",
    "\n",
    "h = lambda x: abs(x-.5)\n",
    "assert_equal(find_order_given_tolerance(h,.05),64)\n",
    "\n",
    "g = lambda x: 1/(1+(10*x-5)**2)\n",
    "assert_equal(find_order_given_tolerance(g,.1),187)"
   ]
  },
  {
   "cell_type": "code",
   "execution_count": null,
   "metadata": {
    "collapsed": true
   },
   "outputs": [],
   "source": [
    "function_norm?"
   ]
  },
  {
   "cell_type": "code",
   "execution_count": null,
   "metadata": {
    "collapsed": true
   },
   "outputs": [],
   "source": [
    "function_norm?"
   ]
  },
  {
   "cell_type": "code",
   "execution_count": null,
   "metadata": {
    "collapsed": true
   },
   "outputs": [],
   "source": []
  }
 ],
 "metadata": {
  "anaconda-cloud": {},
  "kernelspec": {
   "display_name": "Python [default]",
   "language": "python",
   "name": "python3"
  },
  "language_info": {
   "codemirror_mode": {
    "name": "ipython",
    "version": 3
   },
   "file_extension": ".py",
   "mimetype": "text/x-python",
   "name": "python",
   "nbconvert_exporter": "python",
   "pygments_lexer": "ipython3",
   "version": "3.4.5"
  }
 },
 "nbformat": 4,
 "nbformat_minor": 0
}
