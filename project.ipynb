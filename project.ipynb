{
 "cells": [
  {
   "cell_type": "markdown",
   "metadata": {
    "ein.tags": [
     "worksheet-0"
    ],
    "slideshow": {
     "slide_type": "-"
    }
   },
   "source": [
    "## Final project\n",
    "\n",
    "** James N. Vance **\n",
    "\n",
    "Find the solution of \n",
    "\n",
    "$$\n",
    "-\\Delta \\mathbf u + \\mathbf u = \\mathbf f \n",
    "$$\n",
    "\n",
    "on a cube $[0,1]^3$. For the sake of simplicity you can consider just **one finite element** and homogeneous Neumann boundary conditions. \n",
    "\n",
    "Consider Lagrangian finite elements, with Chebyshev nodes, of high order (up to 30--40).\n",
    "\n",
    "The above problem can be rewritten in matrix form as\n",
    "\n",
    "$$\n",
    "(K+M)\\mathbf u = \\mathbf f\n",
    "$$\n",
    "\n",
    "where $K$ is the stiffness matrix, and $M$ is the mass matrix.\n",
    "\n"
   ]
  },
  {
   "cell_type": "markdown",
   "metadata": {},
   "source": [
    "## 1.\n",
    "Assemble the matrices and solve the system with a **direct solver**. Plot (loglog) the $L_2$ norm of the error with respect to a known exact solution as function of the degree of the finite element. "
   ]
  },
  {
   "cell_type": "markdown",
   "metadata": {},
   "source": [
    "**Solution:**\n",
    "\n",
    "Our goal is to find the solution to the PDE $-\\nabla^2 u + u = f$ \n",
    "on the cubic domain $\\Omega=[0,1]^3$ with the homogeneous Neumann boundary conditions $\\partial u/\\partial n = 0$ on $\\partial \\Omega$. Integrating the PDE over the domain $\\Omega$ and imposing the boundary conditions yields the weak formulation\n",
    "$$\n",
    "\\int_\\Omega \\nabla u \\cdot \\nabla v + \\int_\\Omega u \\cdot v = \\int_\\Omega f \\cdot v, ~~~~ \\forall v \\in H_1^1(\\Omega)\n",
    "$$\n",
    "\n",
    "We approximate the solution in the finite element subspace\n",
    "$$\n",
    "\\int_\\Omega \\nabla u_h \\cdot \\nabla v_h + \\int_\\Omega u_h \\cdot v_h = \\int_\\Omega f \\cdot v_h, ~~~~ \\forall v_h \\in V_h\n",
    "$$\n",
    "and choose basis functions $\\phi_I$ such that\n",
    "$$u_h = \\sum_{I \\in \\mathcal I_s} c_I \\phi_I$$\n",
    "where $c_I$'s are the degrees of freedom and $\\mathcal I_s$ is the index set for the linear expansion."
   ]
  },
  {
   "cell_type": "markdown",
   "metadata": {},
   "source": [
    "With the expansion linear expansion proposed earlier, we rewrite the problem into\n",
    "\\begin{align}\n",
    "\\int_\\Omega \\nabla \\left( \\sum_{I \\in \\mathcal I_s } c_I \\phi_I  \\right) \\cdot \\nabla  \\phi_J + \\int_\\Omega \\left( \\sum_{I \\in \\mathcal I_s } c_I \\phi_I  \\right) \\cdot \\phi_J &= \\int_\\Omega f \\cdot \\phi_J, ~~~~ \\forall J \\in \\mathcal I_s \\\\\n",
    "\\sum_{J \\in \\mathcal I_s } c_J \\left( \\int_\\Omega \\nabla \\phi_J   \\cdot \\nabla  \\phi_J + \\int_\\Omega \\phi_I \\cdot \\phi_J \\right) &= \\int_\\Omega f \\cdot \\phi_J, ~~~~ \\forall J \\in \\mathcal I_s\n",
    "\\end{align}\n",
    "\n",
    "This is equivalent to solving the linear system\n",
    "$$\n",
    "(\\hat K + \\hat M)\\mathbf c = \\mathbf F\n",
    "$$\n",
    "where\n",
    "\\begin{align}\n",
    "K_{I,J} &= \\int_\\Omega \\nabla \\phi_I   \\cdot \\nabla  \\phi_J, & M_{I,J} &= \\int_\\Omega \\phi_I \\cdot \\phi_J, & F_{J} &= \\int_\\Omega f \\cdot \\phi_J\n",
    "\\end{align}"
   ]
  },
  {
   "cell_type": "markdown",
   "metadata": {},
   "source": [
    "Using the index notation $I := (i,j,k) \\in \\mathcal I_s$, we adapt the basis functions in the polynomial space\n",
    "\n",
    "$$\n",
    "\\mathscr P^{n,m,l}: \\mathrm {span}\\{ p_{i,j,k}(x,y,z) \\}_{i,j,k=0}^{n,m,l} $$\n",
    "\n",
    "Imposing separability, we may write these polynomials as \n",
    "\n",
    "\\begin{align}\n",
    "p_{i,j,k}(x,y,z) = p_i(x) p_j(y) p_k(z)\n",
    "\\end{align}\n",
    "\n",
    "where $i=0 \\dots n,~j=0 \\dots m,~k=0 \\dots l$, and $n$, $m$ and $l$ are the degrees of the polynomial in $x$,$y$ and $z$, respectively. \n",
    "\n",
    "Four each basis, we choose the Lagrange interpolating polynomial, whose form in one dimension is given by\n",
    "\n",
    "$$\n",
    "p_i^n(x) = \\prod_{j=0,j \\neq i}^{n} \\frac{x-x_j}{x_i-x_j}\n",
    "$$\n",
    "\n",
    "where $x_i$'s are interpolation points corresponding to the nodes of our finite element."
   ]
  },
  {
   "cell_type": "markdown",
   "metadata": {},
   "source": [
    "We construct these one-dimensional basis functions given the node points and the degree of interpolation using the following functions:"
   ]
  },
  {
   "cell_type": "code",
   "execution_count": null,
   "metadata": {
    "collapsed": false
   },
   "outputs": [],
   "source": [
    "import numpy as np\n",
    "import numpy.polynomial.polynomial as poly\n",
    "import matplotlib.pyplot as plt\n",
    "\n",
    "\n",
    "def ConstructDualBasis(nodes): \n",
    "    N = []\n",
    "    for i in range(len(nodes)):\n",
    "        nodefunc = lambda f, i = i : f(nodes[i])\n",
    "        N.append(nodefunc)\n",
    "    return N\n",
    "\n",
    "\n",
    "def BasisPolynomials(deg):\n",
    "    P = []\n",
    "    for i in range(deg+1):\n",
    "        c = np.zeros((i+1,))\n",
    "        c[-1] = 1\n",
    "        P.append(poly.Polynomial(c))\n",
    "    return P\n",
    "\n",
    "\n",
    "def ConstructCij(N,P):\n",
    "    C = np.zeros((0,len(P)))\n",
    "    for dof in N:\n",
    "        row = np.array([])\n",
    "        for p in P:\n",
    "            row = np.hstack((row,dof(p)))\n",
    "        C = np.vstack((C,row))\n",
    "    return C\n",
    "\n",
    "\n",
    "def ConstructCanonicalBasis(C):\n",
    "    from scipy.linalg import solve\n",
    "    \n",
    "    V = []\n",
    "    for k in range(C.shape[0]):\n",
    "        delta_ij = np.zeros(C.shape[0])\n",
    "        delta_ij[k] = 1\n",
    "        vk = solve(C,delta_ij)\n",
    "        V.append(poly.Polynomial(vk))\n",
    "    return V\n"
   ]
  },
  {
   "cell_type": "markdown",
   "metadata": {},
   "source": [
    "To minimize the effect of oscillations at the edges of the interpolation, known as Runge's phenomenon, we use  Chebyshev nodes in determining interpolation points. On the interval $[0,1]$ the Chebyshev nodes are given by\n",
    "\n",
    "$$ x_k = \\frac{1}{2} + \\frac{1}{2} \\cos\\left(\\frac{2k-1}{2n}\\pi\\right), ~~ k=1,2,\\dots n $$"
   ]
  },
  {
   "cell_type": "code",
   "execution_count": null,
   "metadata": {
    "collapsed": true
   },
   "outputs": [],
   "source": [
    "def ChebyshevNodes(n): # n is the number of desired nodes\n",
    "    return [0.5+0.5*np.cos((2.*k-1.)/(2.*n)*np.pi) for k in range(1,n+1)]\n"
   ]
  },
  {
   "cell_type": "markdown",
   "metadata": {},
   "source": [
    "The problem in 3D can be simplified by expressing everything in terms of the similar problem in one dimension\n",
    "\n",
    "$$\n",
    "-\\partial^2_x u(x) + u(x) = f(x)\n",
    "$$\n",
    "\n",
    "whose weak form in the finite element subspace is expressed as \n",
    "\n",
    "$$\n",
    "\\int_{0}^{1} u_h'(x) v_h'(x)~\\mathrm dx + \\int_{0}^{1} u_h(x) v_h(x) ~\\mathrm dx  = \\int_{0}^{1} f v_h(x), ~~~~ \\forall v_h \\in V_h\n",
    "$$\n",
    "\n",
    "By choosing the expansion,\n",
    "\n",
    "$$ u_h(x) = \\sum_{i=0}^{n} c_i p_i(x)$$\n",
    "\n",
    "it can be shown that the problem reduces to the linear system\n",
    "\n",
    "$$ (\\hat k + \\hat  m) \\mathbf c = \\mathbf f $$\n",
    "\n",
    "where \n",
    "\n",
    "\\begin{align}\n",
    "k_{i,j} &= \\int_{0}^{1}  \\phi_i'(x)   \\phi_j'(x) \\mathrm d x, & m_{i,j} &= \\int_{0}^{1}  \\phi_i(x)   \\phi_j(x) \\mathrm d x, & f_{j} &= \\int_{0}^{1}  f(x)  \\phi_j(x) \\mathrm d x\n",
    "\\end{align}\n",
    "\n",
    "\n",
    "\n",
    "\n",
    "<!--A_{I,J} =& \\int_\\Omega \\nabla (p_i(x) p_j(y)& p_k(z))   \\cdot \\nabla  (p_q(x) p_r(y) p_s(z)) \\\\-->"
   ]
  },
  {
   "cell_type": "markdown",
   "metadata": {},
   "source": [
    "We construct stiffness matrix $\\hat k$, mass matrix $\\hat m$ and the right-hand side vector $\\mathbf f$ for the one dimensional case using the following functions:"
   ]
  },
  {
   "cell_type": "code",
   "execution_count": null,
   "metadata": {
    "collapsed": true
   },
   "outputs": [],
   "source": [
    "from numpy.polynomial.legendre import leggauss\n",
    "\n",
    "def ConstructKM1D(degree):\n",
    "    nnodes = degree + 1\n",
    "    nodes  = ChebyshevNodes(nnodes)\n",
    "\n",
    "    N = ConstructDualBasis(nodes) \n",
    "    E = BasisPolynomials(degree)\n",
    "    C = ConstructCij(N,E)\n",
    "    V = ConstructCanonicalBasis(C)\n",
    "\n",
    "    nquad = 2*len(N)-1         # number of quadrature points\n",
    "    q,w   = leggauss(nquad)    # on interval [-1,+1]\n",
    "    q     = (q+1)/2            # rescale to  [ 0,+1]\n",
    "    nder  = 2                  # obtain 0th and 1st derivatives\n",
    "\n",
    "    Lq = np.zeros((nder,nnodes,nquad))\n",
    "    for i in range(nder):\n",
    "        for j in range(nnodes):\n",
    "            Lq[i][j] = V[j].deriv(i)(q)\n",
    "\n",
    "    M = np.einsum('jq, iq, q -> ij', Lq[0], Lq[0], w)\n",
    "    K = np.einsum('jq, iq, q -> ij', Lq[1], Lq[1], w)\n",
    "\n",
    "    return K, M, V\n",
    "\n",
    "\n",
    "def ConstructF1D(f,V,degree):\n",
    "    \n",
    "    nnodes = len(V)\n",
    "    nquad  = 2*(degree+1)-1     # number of quadrature points\n",
    "    q,w    = leggauss(nquad)    # on interval [-1,+1]\n",
    "    q      = (q+1)/2            # rescale to  [ 0,+1]\n",
    "    nder   = 1                  # obtain 0th and 1st derivatives\n",
    "\n",
    "    Lq = np.zeros((nder,nnodes,nquad))\n",
    "    for i in range(nder):\n",
    "        for j in range(nnodes):\n",
    "            Lq[i][j] = V[j].deriv(i)(q)        \n",
    "    \n",
    "    fq = f(q)\n",
    "    F = np.einsum('iq, q, q -> i', Lq[0], fq, w)\n",
    "    \n",
    "    return F"
   ]
  },
  {
   "cell_type": "markdown",
   "metadata": {},
   "source": [
    "From the components of the 3D linear system,\n",
    "\\begin{align}\n",
    "K_{I,J} &= \\int_\\Omega \\nabla \\phi_I   \\cdot \\nabla  \\phi_J, & M_{I,J} &= \\int_\\Omega \\phi_I \\cdot \\phi_J, & F_{J} &= \\int_\\Omega f \\cdot \\phi_J\n",
    "\\end{align}\n",
    "setting \n",
    "$$ \\phi_I = p_{i,j,k}(x,y,z) = p_i(x) p_j(y) p_k(z) $$ \n",
    "and \n",
    "$$ \\phi_J = p_{q,r,s}(x,y,z) = p_q(x) p_r(y) p_s(z) $$ \n",
    "\n",
    "and imposing a separable right-hand side function for simplicity, i.e.\n",
    "\n",
    "$$\n",
    "f(x,y,z) = f(x)f(y)f(z)\n",
    "$$\n",
    "\n",
    "we can rewrite the the 3D equations as \n",
    "\n",
    "\\begin{eqnarray}\n",
    "M_{I,J} =& \\int_0^1 p_i(x)p_q(x)~\\mathrm dx &\n",
    "             \\int_0^1 p_j(y)p_r(y)~\\mathrm dy \n",
    "             \\int_0^1 p_k(z)p_s(z)~\\mathrm dz \\\\\n",
    "K_{I,J} =& \\int_0^1\\int_0^1\\int_0^1 \\big( &\n",
    "            p_i'(x) p_j(y) p_k(z) p_q'(x) p_r(y) p_s(z) +p_i(x) p_j'(y) p_k(z) p_q(x) p_r'(y) p_s(z) \\\\\n",
    "         &&+p_i(x) p_j(y) p_k'(z) p_q(x) p_r(y) p_s'(z) \n",
    "        ~\\big)~\\mathrm dx~\\mathrm dy~\\mathrm dz \\\\\n",
    "F_{J} =& \\int_0^1 f(x)p_q(x)~\\mathrm dx &\n",
    "             \\int_0^1 f(y)p_r(y)~\\mathrm dy \n",
    "             \\int_0^1 f(z)p_s(z)~\\mathrm dz &\n",
    "\\end{eqnarray}\n",
    "\n",
    "Thus, the 3D case may now be expressed as tensor products of their one-dimensional equivalents:\n",
    "\n",
    "\\begin{eqnarray}\n",
    "M_{I,J} &=& m_{i,q} m_{j,r} m_{k,s} \\\\\n",
    "K_{I,J} &=& k_{i,q} m_{j,r} m_{k,s} +  m_{i,q} k_{j,r} m_{k,s} + m_{i,q} k_{j,r} a_{k,s} \\\\\n",
    "F_{J} &=& f_{q} f_{r} f_{s}\n",
    "\\end{eqnarray}"
   ]
  },
  {
   "cell_type": "markdown",
   "metadata": {},
   "source": [
    "The following function assembles the 3D linear system and calls a function `linsolve` to calculate the solution"
   ]
  },
  {
   "cell_type": "code",
   "execution_count": null,
   "metadata": {
    "collapsed": true
   },
   "outputs": [],
   "source": [
    "def FEM_solve(degree,f_rhs,solver=None,view=False,P=None):\n",
    "    k,m,v = ConstructKM1D(degree)\n",
    "    f     = ConstructF1D(f_rhs,v,30)               # Degree of RHS independent of LHS\n",
    "\n",
    "    F = np.einsum('i,j,k->ijk',f,f,f)              # Right-hand side\n",
    "    F = np.reshape(F,np.prod(F.shape))\n",
    "\n",
    "    if view:                                       # Also returns the full linear system\n",
    "        M  = np.einsum('ij,kl,mn->ikmjln',m,m,m)   # Mass matrix\n",
    "        M  = np.reshape(M, (np.prod(M.shape[:3]),np.prod(M.shape[3:])))\n",
    "        K  = np.einsum('ij,kl,mn->ikmjln',k,m,m)   # Stiffness matrix\n",
    "        K += np.einsum('ij,kl,mn->ikmjln',m,k,m)\n",
    "        K += np.einsum('ij,kl,mn->ikmjln',m,m,k)\n",
    "        K  = np.reshape(K, (np.prod(K.shape[:3]),np.prod(K.shape[3:])))\n",
    "\n",
    "        c = linsolve(K+M,F,solver=solver,overwrite=False,P=P)\n",
    "\n",
    "        return c,v,K,M,F\n",
    "\n",
    "    else:                                          # Returns only the result\n",
    "        A  = np.einsum('ij,kl,mn->ikmjln',m,m,m)       \n",
    "        A += np.einsum('ij,kl,mn->ikmjln',k,m,m)\n",
    "        A += np.einsum('ij,kl,mn->ikmjln',m,k,m)\n",
    "        A += np.einsum('ij,kl,mn->ikmjln',m,m,k)\n",
    "        A  = np.reshape(A, (np.prod(A.shape[:3]),np.prod(A.shape[3:])))\n",
    "\n",
    "        c = linsolve(A,F,solver=solver,overwrite=True,P=P)\n",
    "\n",
    "        return c,v\n",
    "    "
   ]
  },
  {
   "cell_type": "markdown",
   "metadata": {},
   "source": [
    "The linear solver that we have implemented uses the Cholesky decomposition approach since the matrix $\\hat A = \\hat K + \\hat M$ is symmetric and positive definite. We also decorated the function with the numba `@jit` directive for increased performance. "
   ]
  },
  {
   "cell_type": "code",
   "execution_count": null,
   "metadata": {
    "collapsed": false
   },
   "outputs": [],
   "source": [
    "from numba import jit\n",
    "\n",
    "@jit(nopython=True)\n",
    "def cholesky(A):\n",
    "    N = len(A)\n",
    "    for k in range(N-1):\n",
    "        A[k,k] = np.sqrt(A[k,k])\n",
    "        A[k+1:N,k] = A[k+1:N,k]/A[k,k]\n",
    "        for j in range(k+1,N):\n",
    "            A[j:N,j] = A[j:N,j] - A[j:N,k]*A[j,k]     \n",
    "    A[-1,-1] = np.sqrt(A[-1,-1])\n",
    "    return A\n",
    "\n",
    "@jit(nopython=True)\n",
    "def L_solve(L,rhs):\n",
    "    N = len(L)\n",
    "    sol = np.zeros(N)\n",
    "    sol[0] = rhs[0]/L[0,0]\n",
    "    for k in range(1,N):\n",
    "        sol[k] = (rhs[k] - np.dot(L[k,:k], sol[:k])) / L[k,k]        \n",
    "    return sol\n",
    "\n",
    "@jit(nopython=True)\n",
    "def U_solve(U,rhs):\n",
    "    N = len(U)\n",
    "    sol = np.zeros(N)\n",
    "    sol[-1] = rhs[-1]/U[-1,-1]\n",
    "    for k in range(N-1):\n",
    "        sol[N-k-2] = (rhs[N-k-2] - np.dot(U[N-k-2,N-k-1:N-1], sol[N-k-1:N-1])) / U[N-k-2,N-k-2]\n",
    "    return sol\n"
   ]
  },
  {
   "cell_type": "markdown",
   "metadata": {},
   "source": [
    "The generic function `linsolve` allows us to choose which type of solver to use."
   ]
  },
  {
   "cell_type": "code",
   "execution_count": null,
   "metadata": {
    "collapsed": true
   },
   "outputs": [],
   "source": [
    "def linsolve(A,b,solver=None,overwrite=False,P=None):\n",
    "    if solver == 'my cholesky':\n",
    "        if overwrite:\n",
    "            A1 = A\n",
    "        else:\n",
    "            A1 = A.copy()\n",
    "        HT = cholesky(A1)\n",
    "        HT =np.tril(HT)\n",
    "        H = HT.transpose()\n",
    "        y = L_solve(HT,b)\n",
    "        c = U_solve(H,y)\n",
    "        \n",
    "    elif solver == 'my cg':\n",
    "        c = linsolve_my_cg(A,b,overwrite,P)\n",
    "        # implementation of iterative solver as provided in section 2\n",
    "        \n",
    "    elif solver == 'scipy cholesky':\n",
    "        from scipy.linalg import cho_factor, cho_solve\n",
    "        c,lower = cho_factor(A,b,overwrite_a=overwrite)\n",
    "        c = cho_solve((c, lower),b,overwrite_b=overwrite)\n",
    "        \n",
    "    elif solver == 'scipy cg':\n",
    "        from scipy.sparse.linalg import cg\n",
    "        c,info = cg(A,b) \n",
    "        \n",
    "    elif solver == 'scipy linalg':\n",
    "        from scipy.linalg import solve\n",
    "        c = solve(A,b)\n",
    "        \n",
    "    else:\n",
    "        raise NameError, \"Solver not specified\"\n",
    "    \n",
    "    return c"
   ]
  },
  {
   "cell_type": "markdown",
   "metadata": {},
   "source": [
    "We also asses the L2 norm of the error using the following function with uniform mesh"
   ]
  },
  {
   "cell_type": "code",
   "execution_count": null,
   "metadata": {
    "collapsed": true
   },
   "outputs": [],
   "source": [
    "def L2norm(U): \n",
    "    return np.sqrt(np.sum(U*U))/(np.product(U.shape))\n"
   ]
  },
  {
   "cell_type": "markdown",
   "metadata": {},
   "source": [
    "We also interpolate the solution to a uniform mesh for plotting and error calculation:"
   ]
  },
  {
   "cell_type": "code",
   "execution_count": null,
   "metadata": {
    "collapsed": true
   },
   "outputs": [],
   "source": [
    "def FEM_error(degree,u_ex,c,v,ns,view=False):\n",
    "    n = degree + 1\n",
    "    s = np.linspace(0,1,ns)\n",
    "    Ls = np.zeros((n, ns))\n",
    "    for j in range(n):\n",
    "        Ls[j] = v[j](s)\n",
    "    C = np.einsum('is, jk, pq -> skqijp', Ls, Ls, Ls)\n",
    "\n",
    "    uex1D = u_ex(s)\n",
    "    Uex   = np.einsum('i,j,k->ijk',uex1D,uex1D,uex1D)\n",
    "\n",
    "    U = np.einsum('skqijp, ijp', C, c.reshape((n,n,n)))\n",
    "    \n",
    "    if view:\n",
    "        return L2norm(U-Uex),U,Uex,s\n",
    "    else:\n",
    "        return L2norm(U-Uex)\n",
    "    "
   ]
  },
  {
   "cell_type": "markdown",
   "metadata": {},
   "source": [
    "And we write some miscellaneous for plotting:"
   ]
  },
  {
   "cell_type": "code",
   "execution_count": null,
   "metadata": {
    "collapsed": true
   },
   "outputs": [],
   "source": [
    "def surfplot(X,Y,U,filename=''):\n",
    "    from mpl_toolkits.mplot3d import Axes3D\n",
    "    from matplotlib import cm\n",
    "    import matplotlib.pyplot as plt\n",
    "    \n",
    "    fig = plt.figure(figsize=(10,10))\n",
    "    ax = fig.gca(projection='3d')\n",
    "    surf = ax.plot_surface(X, Y, U, cmap=cm.coolwarm,linewidth=0, antialiased=False)\n",
    "    if filename != '': plt.savefig(filename)\n",
    "    plt.show()    \n",
    "\n",
    "\n",
    "def cmplot(U,filename=''):\n",
    "    import matplotlib.pyplot as plt\n",
    "    plt.imshow(U)\n",
    "    plt.colorbar()\n",
    "    if filename != '': plt.savefig(filename)\n",
    "    plt.show()\n",
    "    "
   ]
  },
  {
   "cell_type": "markdown",
   "metadata": {},
   "source": [
    "Now, we execute a sample calculation using the exact solution:\n",
    "\n",
    "$$\n",
    "u_{\\mathrm{ex}}(x,y,z) = \\cos(kx)\\cos(ky)\\cos(kz)\n",
    "$$\n",
    "\n",
    "which satisfies the boundary conditions $\\partial u/\\partial n = 0$ at the boundaries. The right-hand side becomes\n",
    "\n",
    "$$\n",
    "f(x,y,z) = (1+k^2)^3 \\cos(kx)\\cos(ky)\\cos(kz)\n",
    "$$\n",
    "\n",
    "\n"
   ]
  },
  {
   "cell_type": "code",
   "execution_count": null,
   "metadata": {
    "collapsed": false
   },
   "outputs": [],
   "source": [
    "kk     = 3*np.pi\n",
    "f_rhs  = lambda x: np.power(1+kk**2,1.0/3.0)*np.cos(kk*x)\n",
    "u_ex   = lambda x: np.cos(kk*x) \n",
    "\n",
    "deg = 10\n",
    "ns  = 30\n",
    "\n",
    "c,v,K,M,F       = FEM_solve(deg,f_rhs,'my cholesky',True)\n",
    "err_fem,U,Uex,s = FEM_error(deg,u_ex,c,v,deg+1,True) # Interpolated with same degree as FE\n",
    "err_int,U,Uex,s = FEM_error(deg,u_ex,c,v,ns,True)    # Interpolated with higher degree than FE"
   ]
  },
  {
   "cell_type": "markdown",
   "metadata": {},
   "source": [
    "The following plots the solution $u(x,y,z)$ at $z=2.5$. Also shown is a plot of the corresponding matrix values."
   ]
  },
  {
   "cell_type": "code",
   "execution_count": null,
   "metadata": {
    "collapsed": false
   },
   "outputs": [],
   "source": [
    "U_slice = U[int(len(s)/4)]\n",
    "X, Y = np.meshgrid(s,s)\n",
    "surfplot(X,Y,U_slice)\n",
    "cmplot(U_slice)\n",
    "print(\"FEM Error: {}\".format(err_fem))"
   ]
  },
  {
   "cell_type": "markdown",
   "metadata": {},
   "source": [
    "We now look at the relationship between the degree of the finite element with the $L_2$ norm of the error using the following function."
   ]
  },
  {
   "cell_type": "code",
   "execution_count": null,
   "metadata": {
    "collapsed": true
   },
   "outputs": [],
   "source": [
    "def FEM_assess(deg0,deg1,solver,P=None):\n",
    "    from time import time\n",
    "\n",
    "    kk     = 3*np.pi\n",
    "    f_rhs  = lambda x: np.power(1+kk**2,1.0/3.0)*np.cos(kk*x)\n",
    "    u_ex   = lambda x: np.cos(kk*x)\n",
    "\n",
    "    degrees  = range(deg0,deg1+1)\n",
    "    error    = []\n",
    "    runtime  = []\n",
    "    \n",
    "    filename = \"data_{}_{}_{}_{}_.txt\".format(solver,str(P),degrees[0],degrees[-1])\n",
    "    print(\"Writing data to {}\".format(filename))\n",
    "    print(\"Degree\\tL2norm of error\\tTime\".format(filename))\n",
    "    with open(filename,\"w\") as f:\n",
    "        f.write('')\n",
    "\n",
    "    loop_start = time()\n",
    "    for degree in degrees:\n",
    "        start = time()\n",
    "        c,v = FEM_solve(degree,f_rhs,solver,False,P=P)\n",
    "        error.append(FEM_error(degree,u_ex,c,v,len(v)))\n",
    "        runtime.append(time()-start)\n",
    "        line = \"%d\\t%f\\t%f\"%(degree, error[-1], runtime[-1])\n",
    "        with open(filename,\"a\") as f: \n",
    "            f.write(line)\n",
    "            f.write(\"\\n\")\n",
    "        print(line)\n",
    "    print(\"Loop:\\t\\t\\t%f\"%(time()-loop_start))\n",
    "\n",
    "    return degrees, error, runtime\n",
    "\n",
    "def errorplot(degrees, error):\n",
    "    plt.loglog(degrees,error,'o-')\n",
    "    plt.xlabel('Degree of finite element')\n",
    "    plt.ylabel('$L_2$ norm of error')\n",
    "    plt.show()\n",
    "\n",
    "def timeplot(degrees, runtime):\n",
    "    plt.semilogy(degrees,runtime,'o-')\n",
    "    plt.xlabel('Degree of finite element')\n",
    "    plt.ylabel('Runtime (s)')\n",
    "    plt.show()"
   ]
  },
  {
   "cell_type": "markdown",
   "metadata": {},
   "source": [
    "**Note:** To speed up calculation, `scipy cholesky` is used by default. Custom solver `my cholesky` may be specified instead."
   ]
  },
  {
   "cell_type": "code",
   "execution_count": null,
   "metadata": {
    "collapsed": false,
    "scrolled": true
   },
   "outputs": [],
   "source": [
    "degrees_ch_loc, error_ch_loc, runtime_ch_loc = FEM_assess(3,12,'my cholesky') "
   ]
  },
  {
   "cell_type": "code",
   "execution_count": null,
   "metadata": {
    "collapsed": false,
    "scrolled": true
   },
   "outputs": [],
   "source": [
    "errorplot(degrees_ch_loc, error_ch_loc)"
   ]
  },
  {
   "cell_type": "code",
   "execution_count": null,
   "metadata": {
    "collapsed": false
   },
   "outputs": [],
   "source": [
    "timeplot(degrees_ch_loc, runtime_ch_loc)"
   ]
  },
  {
   "cell_type": "markdown",
   "metadata": {
    "collapsed": true
   },
   "source": [
    "We also ran the calculations on the C3E cluster and obtained the following results:"
   ]
  },
  {
   "cell_type": "code",
   "execution_count": null,
   "metadata": {
    "collapsed": true
   },
   "outputs": [],
   "source": [
    "degrees_ch_c3e, error_ch_c3e, runtime_ch_c3e = np.genfromtxt(\"./project/data_chol.txt\").T"
   ]
  },
  {
   "cell_type": "code",
   "execution_count": null,
   "metadata": {
    "collapsed": false
   },
   "outputs": [],
   "source": [
    "errorplot(degrees_ch_c3e, error_ch_c3e)"
   ]
  },
  {
   "cell_type": "code",
   "execution_count": null,
   "metadata": {
    "collapsed": false
   },
   "outputs": [],
   "source": [
    "timeplot(degrees_ch_c3e, runtime_ch_c3e)"
   ]
  },
  {
   "cell_type": "markdown",
   "metadata": {},
   "source": [
    "## 2.\n",
    "Use an iterative solver with a chosen preconditioner. Compare and comment the computational burden between the direct and iterative case."
   ]
  },
  {
   "cell_type": "markdown",
   "metadata": {},
   "source": [
    "We choose the conjugate gradient method as our iterative solver since the LHS matrix $\\hat A = \\hat K + \\hat M$ is symmetric and positive definite. The function `CG` provides the implementation with an optional preconditioner `P`. As preconditioner, we implement the Incomplete Cholesky decomposition\n",
    "\n",
    "The function `linsolve_my_cg` is called from the earlier implemented `linsolve` to perform the conjugate gradient method."
   ]
  },
  {
   "cell_type": "code",
   "execution_count": null,
   "metadata": {
    "collapsed": false
   },
   "outputs": [],
   "source": [
    "from scipy.linalg import norm,solve"
   ]
  },
  {
   "cell_type": "code",
   "execution_count": null,
   "metadata": {
    "collapsed": false
   },
   "outputs": [],
   "source": [
    "from numpy.linalg import norm,solve\n",
    "\n",
    "\n",
    "def CG(A,b,P=None,eps=1e-10):\n",
    "    \n",
    "    x = np.zeros_like(b)    \n",
    "    res = b - np.dot(A,x)\n",
    "\n",
    "    if P is not None:\n",
    "        z = solve(P,res)\n",
    "    else:\n",
    "        z = res.copy() \n",
    "    \n",
    "    p = z.copy()\n",
    "\n",
    "    x = CG_loop(A,P,p,x,res,eps)\n",
    "                 \n",
    "    return x\n",
    "\n",
    "\n",
    "@jit(nopython=True)\n",
    "def CG_loop(A,P,p,x,res,eps):\n",
    "    it = 0\n",
    "    n = len(A)\n",
    "    tol = eps + 1\n",
    "    while (it < n and tol > eps):\n",
    "        it    += 1\n",
    "        q      = np.dot(A,p)\n",
    "        pAp    = np.dot(p,q)                \n",
    "        alpha  = np.dot(p,res) / pAp\n",
    "        x     += alpha * p\n",
    "        res   -= alpha * q\n",
    "        tol    = norm(res,2)\n",
    "        \n",
    "        if P is not None:\n",
    "            z = solve(P,res)\n",
    "        else:\n",
    "            z = res.copy()\n",
    "        \n",
    "        beta = np.dot(q,z) / pAp\n",
    "        p    = z - beta * p   \n",
    "    \n",
    "    return x\n",
    "\n",
    "\n",
    "def linsolve_my_cg(A,b,overwrite,P):\n",
    "    if P is None:\n",
    "        c = CG(A,b)\n",
    "    elif P == 'A':\n",
    "        c = CG(A,b,A)\n",
    "    elif P == 'jacobi':\n",
    "        pre = np.diag(np.diag(A))\n",
    "        c   = CG(A,b,pre)\n",
    "    elif P == 'incomplete cholesky':\n",
    "        pre = A.copy()\n",
    "        pre = IncompleteCholesky(pre)\n",
    "        c   = CG(A,b,pre)\n",
    "    else:\n",
    "        print(\"Specify correct preconditioner\")\n",
    "        return None        \n",
    "    return c\n",
    "\n",
    "\n",
    "@jit(nopython=True)\n",
    "def IncompleteCholesky(P):\n",
    "    n = len(P)\n",
    "\n",
    "    for k in range(n):\n",
    "        P[k,k] = np.sqrt(P[k,k])\n",
    "        for i in range(k+1,n):\n",
    "            if (P[i,k]!=0):\n",
    "                P[i,k] = P[i,k]/P[k,k]\n",
    "        for j in range(k+1,n):\n",
    "            for i in range(j,n):\n",
    "                if P[i,j] != 0:\n",
    "                    P[i,j] = P[i,j]-P[i,k]*P[j,k]\n",
    "        \n",
    "    for i in range(n):\n",
    "        for j in range(i+1,n):\n",
    "            P[i,j] = 0\n",
    "    \n",
    "    return P\n",
    "        "
   ]
  },
  {
   "cell_type": "code",
   "execution_count": null,
   "metadata": {
    "collapsed": false
   },
   "outputs": [],
   "source": [
    "kk     = 3*np.pi\n",
    "f_rhs  = lambda x: np.power(1+kk**2,1.0/3.0)*np.cos(kk*x)\n",
    "u_ex   = lambda x: np.cos(kk*x) \n",
    "\n",
    "deg = 10\n",
    "ns  = 30\n",
    "\n",
    "c,v,K,M,F       = FEM_solve(deg,f_rhs,'my cg',True,P='incomplete cholesky')\n",
    "err_fem,U,Uex,s = FEM_error(deg,u_ex,c,v,deg+1,True) # Interpolated with same degree as FE\n",
    "err_int,U,Uex,s = FEM_error(deg,u_ex,c,v,ns,True)    # Interpolated with higher degree than FE"
   ]
  },
  {
   "cell_type": "code",
   "execution_count": null,
   "metadata": {
    "collapsed": false
   },
   "outputs": [],
   "source": [
    "U_slice = U[int(len(s)/3)]\n",
    "X, Y = np.meshgrid(s,s)\n",
    "surfplot(X,Y,U_slice)\n",
    "cmplot(U_slice)\n",
    "print(\"FEM Error: {}\".format(err_fem))"
   ]
  },
  {
   "cell_type": "code",
   "execution_count": null,
   "metadata": {
    "collapsed": false
   },
   "outputs": [],
   "source": [
    "degrees_cg_loc, error_cg_loc, runtime_cg_loc = FEM_assess(3,12,'my cg','jacobi')"
   ]
  },
  {
   "cell_type": "code",
   "execution_count": null,
   "metadata": {
    "collapsed": false
   },
   "outputs": [],
   "source": [
    "errorplot(degrees_cg_loc,error_cg_loc)"
   ]
  },
  {
   "cell_type": "code",
   "execution_count": null,
   "metadata": {
    "collapsed": false
   },
   "outputs": [],
   "source": [
    "timeplot(degrees_cg_loc,runtime_cg_loc)"
   ]
  },
  {
   "cell_type": "code",
   "execution_count": null,
   "metadata": {
    "collapsed": true
   },
   "outputs": [],
   "source": [
    "degrees_cg_c3e, error_cg_c3e, runtime_cg_c3e = np.genfromtxt(\"./project/data_cg.txt\").T"
   ]
  },
  {
   "cell_type": "code",
   "execution_count": null,
   "metadata": {
    "collapsed": false
   },
   "outputs": [],
   "source": [
    "plt.loglog(degrees_ch_c3e,error_ch_c3e,'x-')\n",
    "errorplot(degrees_cg_c3e,error_cg_c3e)"
   ]
  },
  {
   "cell_type": "code",
   "execution_count": null,
   "metadata": {
    "collapsed": false
   },
   "outputs": [],
   "source": [
    "plt.loglog(degrees_ch_c3e,runtime_ch_c3e,'x-') # turn off jit for ch\n",
    "timeplot(degrees_cg_c3e,runtime_cg_c3e)"
   ]
  },
  {
   "cell_type": "markdown",
   "metadata": {
    "collapsed": true
   },
   "source": [
    "### Remarks:\n",
    "\n",
    "Compare and comment on the computational burden"
   ]
  },
  {
   "cell_type": "markdown",
   "metadata": {},
   "source": [
    "3 - **OPTIONAL** Using the iterative solver, implement a matrix-free approach where the computation of the matrices is substituted with a  function which returns the *matrix-vector* product. In doing so, you must take care of rewriting the assemble of the matrix as a sum of many *matrix-matrix* products exploiting all the possible tensor products. \n",
    "\n",
    "Compare and comment the compuational cost of 100 matrix-vector product when the matrix is assembled and when it is computed on-the-fly as a function of the degree of the finite element."
   ]
  },
  {
   "cell_type": "code",
   "execution_count": null,
   "metadata": {
    "collapsed": true
   },
   "outputs": [],
   "source": []
  }
 ],
 "metadata": {
  "anaconda-cloud": {},
  "kernelspec": {
   "display_name": "Python 2",
   "language": "python",
   "name": "python2"
  },
  "language_info": {
   "codemirror_mode": {
    "name": "ipython",
    "version": 2
   },
   "file_extension": ".py",
   "mimetype": "text/x-python",
   "name": "python",
   "nbconvert_exporter": "python",
   "pygments_lexer": "ipython2",
   "version": "2.7.13"
  },
  "name": "07_non_linear_equations.ipynb"
 },
 "nbformat": 4,
 "nbformat_minor": 1
}
